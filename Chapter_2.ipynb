{
  "nbformat": 4,
  "nbformat_minor": 0,
  "metadata": {
    "colab": {
      "provenance": [],
      "authorship_tag": "ABX9TyPJN1u9dpdPP6E6NHlqh7Bh",
      "include_colab_link": true
    },
    "kernelspec": {
      "name": "python3",
      "display_name": "Python 3"
    },
    "language_info": {
      "name": "python"
    }
  },
  "cells": [
    {
      "cell_type": "markdown",
      "metadata": {
        "id": "view-in-github",
        "colab_type": "text"
      },
      "source": [
        "<a href=\"https://colab.research.google.com/github/saivenkatreddy29/Building-LLM-from-Scratch/blob/main/Chapter_2.ipynb\" target=\"_parent\"><img src=\"https://colab.research.google.com/assets/colab-badge.svg\" alt=\"Open In Colab\"/></a>"
      ]
    },
    {
      "cell_type": "code",
      "source": [
        "!pip install tiktoken"
      ],
      "metadata": {
        "colab": {
          "base_uri": "https://localhost:8080/"
        },
        "id": "ZF0sGSJwSu_N",
        "outputId": "74f61edd-5cce-4db2-d2bd-c488be76c8c1"
      },
      "execution_count": 1,
      "outputs": [
        {
          "output_type": "stream",
          "name": "stdout",
          "text": [
            "Collecting tiktoken\n",
            "  Downloading tiktoken-0.8.0-cp310-cp310-manylinux_2_17_x86_64.manylinux2014_x86_64.whl.metadata (6.6 kB)\n",
            "Requirement already satisfied: regex>=2022.1.18 in /usr/local/lib/python3.10/dist-packages (from tiktoken) (2024.11.6)\n",
            "Requirement already satisfied: requests>=2.26.0 in /usr/local/lib/python3.10/dist-packages (from tiktoken) (2.32.3)\n",
            "Requirement already satisfied: charset-normalizer<4,>=2 in /usr/local/lib/python3.10/dist-packages (from requests>=2.26.0->tiktoken) (3.4.0)\n",
            "Requirement already satisfied: idna<4,>=2.5 in /usr/local/lib/python3.10/dist-packages (from requests>=2.26.0->tiktoken) (3.10)\n",
            "Requirement already satisfied: urllib3<3,>=1.21.1 in /usr/local/lib/python3.10/dist-packages (from requests>=2.26.0->tiktoken) (2.2.3)\n",
            "Requirement already satisfied: certifi>=2017.4.17 in /usr/local/lib/python3.10/dist-packages (from requests>=2.26.0->tiktoken) (2024.12.14)\n",
            "Downloading tiktoken-0.8.0-cp310-cp310-manylinux_2_17_x86_64.manylinux2014_x86_64.whl (1.2 MB)\n",
            "\u001b[2K   \u001b[90m━━━━━━━━━━━━━━━━━━━━━━━━━━━━━━━━━━━━━━━━\u001b[0m \u001b[32m1.2/1.2 MB\u001b[0m \u001b[31m34.0 MB/s\u001b[0m eta \u001b[36m0:00:00\u001b[0m\n",
            "\u001b[?25hInstalling collected packages: tiktoken\n",
            "Successfully installed tiktoken-0.8.0\n"
          ]
        }
      ]
    },
    {
      "cell_type": "code",
      "source": [
        "import torch\n",
        "from importlib.metadata import version\n",
        "\n",
        "print('torch version', version('torch'))\n",
        "print('tiktoken version',version('tiktoken'))"
      ],
      "metadata": {
        "colab": {
          "base_uri": "https://localhost:8080/"
        },
        "id": "cgTJ8q29RSbD",
        "outputId": "6466d24e-2d94-4683-9622-5f674b02c2cb"
      },
      "execution_count": 2,
      "outputs": [
        {
          "output_type": "stream",
          "name": "stdout",
          "text": [
            "torch version 2.5.1+cu121\n",
            "tiktoken version 0.8.0\n"
          ]
        }
      ]
    },
    {
      "cell_type": "code",
      "source": [
        "import os\n",
        "import requests\n",
        "path = \"the-verdict.txt\"\n",
        "url =  (\"https://raw.githubusercontent.com/rasbt/\"\n",
        "           \"LLMs-from-scratch/main/ch02/01_main-chapter-code/\"\n",
        "           \"the-verdict.txt\")\n",
        "if os.path.exists(path):\n",
        "  print(\"The file already exist\")\n",
        "else:\n",
        "  print(\"The file doesn't exist downloading.....\")\n",
        "  response = requests.get(url)\n",
        "  if response.status_code == 200:\n",
        "    print('Download completed')\n",
        "    with open(path,'wb') as f:\n",
        "      f.write(response.content)\n",
        "  else:\n",
        "    print('Download Failed')\n"
      ],
      "metadata": {
        "colab": {
          "base_uri": "https://localhost:8080/"
        },
        "id": "vVFkCudTRSXa",
        "outputId": "18849bf5-c300-4b47-84c6-c8d643e08824"
      },
      "execution_count": 3,
      "outputs": [
        {
          "output_type": "stream",
          "name": "stdout",
          "text": [
            "The file doesn't exist downloading.....\n",
            "Download completed\n"
          ]
        }
      ]
    },
    {
      "cell_type": "code",
      "source": [
        "import re\n",
        "text =  \"Hello, world. This, is a test.\"\n",
        "result = re.split(r'\\s',text)\n",
        "print(result)"
      ],
      "metadata": {
        "colab": {
          "base_uri": "https://localhost:8080/"
        },
        "id": "mDV12fCYRST0",
        "outputId": "ee4ce143-2680-4c66-d10d-3f901b5336c6"
      },
      "execution_count": 4,
      "outputs": [
        {
          "output_type": "stream",
          "name": "stdout",
          "text": [
            "['Hello,', 'world.', 'This,', 'is', 'a', 'test.']\n"
          ]
        }
      ]
    },
    {
      "cell_type": "code",
      "execution_count": 5,
      "metadata": {
        "colab": {
          "base_uri": "https://localhost:8080/"
        },
        "id": "NEzi_9n_RRpB",
        "outputId": "6d8431ee-e6ae-416d-a23d-c1964987d96c"
      },
      "outputs": [
        {
          "output_type": "stream",
          "name": "stdout",
          "text": [
            "['Hello', ',', '', ' ', 'world', '.', '', ' ', 'This', ',', '', ' ', 'is', ' ', 'a', ' ', 'test', '.', '']\n"
          ]
        }
      ],
      "source": [
        "result = re.split(r'([,.]|\\s)',text)\n",
        "print(result)"
      ]
    },
    {
      "cell_type": "code",
      "source": [
        "result = [item for item in result if item.strip()]\n",
        "print(result)"
      ],
      "metadata": {
        "colab": {
          "base_uri": "https://localhost:8080/"
        },
        "id": "2DdMex5rXWeH",
        "outputId": "1773d654-510b-4961-eae7-75802784b8d4"
      },
      "execution_count": 6,
      "outputs": [
        {
          "output_type": "stream",
          "name": "stdout",
          "text": [
            "['Hello', ',', 'world', '.', 'This', ',', 'is', 'a', 'test', '.']\n"
          ]
        }
      ]
    },
    {
      "cell_type": "code",
      "source": [
        "text = \"Hello, world. Is this-- a test?\"\n",
        "\n",
        "result = re.split(r'([,.:;?_!\"()\\']|--|\\s)',text)\n",
        "result = [item for item in result if item.strip()]"
      ],
      "metadata": {
        "id": "uamJW4_BXb73"
      },
      "execution_count": 7,
      "outputs": []
    },
    {
      "cell_type": "code",
      "source": [
        "result"
      ],
      "metadata": {
        "colab": {
          "base_uri": "https://localhost:8080/"
        },
        "id": "WmVadCM4Zhaa",
        "outputId": "c12b3432-ccab-4abe-e342-9e4f916020c6"
      },
      "execution_count": 8,
      "outputs": [
        {
          "output_type": "execute_result",
          "data": {
            "text/plain": [
              "['Hello', ',', 'world', '.', 'Is', 'this', '--', 'a', 'test', '?']"
            ]
          },
          "metadata": {},
          "execution_count": 8
        }
      ]
    },
    {
      "cell_type": "code",
      "source": [
        "with open(path, 'r',  encoding=\"utf-8\") as f:\n",
        "  raw_text = f.read()"
      ],
      "metadata": {
        "id": "gbwQmbpLZ-gW"
      },
      "execution_count": 9,
      "outputs": []
    },
    {
      "cell_type": "code",
      "source": [
        "raw_text[:10]"
      ],
      "metadata": {
        "colab": {
          "base_uri": "https://localhost:8080/",
          "height": 35
        },
        "id": "3b_7TQhiaLOc",
        "outputId": "08f7a0c8-8547-4f64-d2fc-8b897e581392"
      },
      "execution_count": 10,
      "outputs": [
        {
          "output_type": "execute_result",
          "data": {
            "text/plain": [
              "'I HAD alwa'"
            ],
            "application/vnd.google.colaboratory.intrinsic+json": {
              "type": "string"
            }
          },
          "metadata": {},
          "execution_count": 10
        }
      ]
    },
    {
      "cell_type": "code",
      "source": [
        "preprocessed = re.split(r'([,.:;?_!\"()\\']|--|\\s)',raw_text)\n",
        "preprocessed = [item.strip() for item in preprocessed if item.strip()]"
      ],
      "metadata": {
        "id": "fpvJXzDvZr5e"
      },
      "execution_count": 11,
      "outputs": []
    },
    {
      "cell_type": "code",
      "source": [
        "print(preprocessed[:20])"
      ],
      "metadata": {
        "colab": {
          "base_uri": "https://localhost:8080/"
        },
        "id": "4ddYE_wNaTBu",
        "outputId": "ae5183b7-2e72-4e3f-af1b-e07d9c71824b"
      },
      "execution_count": 12,
      "outputs": [
        {
          "output_type": "stream",
          "name": "stdout",
          "text": [
            "['I', 'HAD', 'always', 'thought', 'Jack', 'Gisburn', 'rather', 'a', 'cheap', 'genius', '--', 'though', 'a', 'good', 'fellow', 'enough', '--', 'so', 'it', 'was']\n"
          ]
        }
      ]
    },
    {
      "cell_type": "code",
      "source": [
        "len(preprocessed)"
      ],
      "metadata": {
        "colab": {
          "base_uri": "https://localhost:8080/"
        },
        "id": "OA6gCxTqaU8Z",
        "outputId": "7124636e-8652-44ba-8942-d73d9ebc76c8"
      },
      "execution_count": 13,
      "outputs": [
        {
          "output_type": "execute_result",
          "data": {
            "text/plain": [
              "4690"
            ]
          },
          "metadata": {},
          "execution_count": 13
        }
      ]
    },
    {
      "cell_type": "code",
      "source": [
        "preprocessed = sorted(set(preprocessed))\n",
        "preprocessed[:20]"
      ],
      "metadata": {
        "colab": {
          "base_uri": "https://localhost:8080/"
        },
        "id": "o8ONnmzRcplM",
        "outputId": "33fa64c1-2f77-4010-fe35-dba612b83052"
      },
      "execution_count": 14,
      "outputs": [
        {
          "output_type": "execute_result",
          "data": {
            "text/plain": [
              "['!',\n",
              " '\"',\n",
              " \"'\",\n",
              " '(',\n",
              " ')',\n",
              " ',',\n",
              " '--',\n",
              " '.',\n",
              " ':',\n",
              " ';',\n",
              " '?',\n",
              " 'A',\n",
              " 'Ah',\n",
              " 'Among',\n",
              " 'And',\n",
              " 'Are',\n",
              " 'Arrt',\n",
              " 'As',\n",
              " 'At',\n",
              " 'Be']"
            ]
          },
          "metadata": {},
          "execution_count": 14
        }
      ]
    },
    {
      "cell_type": "code",
      "source": [
        "word_to_in = {}\n",
        "in_to_word = {}\n",
        "\n",
        "for i,word in enumerate(preprocessed):\n",
        "  word_to_in[word] = i\n",
        "  in_to_word[i] = word"
      ],
      "metadata": {
        "id": "Ls8ai2RXaz64"
      },
      "execution_count": 15,
      "outputs": []
    },
    {
      "cell_type": "code",
      "source": [
        "for word,key in word_to_in.items():\n",
        "  print(f'word:{word},key:{key}')\n",
        "  if key>=20:\n",
        "    break"
      ],
      "metadata": {
        "colab": {
          "base_uri": "https://localhost:8080/"
        },
        "id": "0gykMaFZbkK_",
        "outputId": "91ec2c9d-b7bd-41f4-9a24-88b9fb0d47f7"
      },
      "execution_count": 16,
      "outputs": [
        {
          "output_type": "stream",
          "name": "stdout",
          "text": [
            "word:!,key:0\n",
            "word:\",key:1\n",
            "word:',key:2\n",
            "word:(,key:3\n",
            "word:),key:4\n",
            "word:,,key:5\n",
            "word:--,key:6\n",
            "word:.,key:7\n",
            "word::,key:8\n",
            "word:;,key:9\n",
            "word:?,key:10\n",
            "word:A,key:11\n",
            "word:Ah,key:12\n",
            "word:Among,key:13\n",
            "word:And,key:14\n",
            "word:Are,key:15\n",
            "word:Arrt,key:16\n",
            "word:As,key:17\n",
            "word:At,key:18\n",
            "word:Be,key:19\n",
            "word:Begin,key:20\n"
          ]
        }
      ]
    },
    {
      "cell_type": "code",
      "source": [
        "for key,word in in_to_word.items():\n",
        "  print(f'key:{key} word:{word}')\n",
        "  if key>=20:\n",
        "    break"
      ],
      "metadata": {
        "colab": {
          "base_uri": "https://localhost:8080/"
        },
        "id": "xOdpHIIPbjvk",
        "outputId": "5521d96f-221b-4275-d428-5773067909a4"
      },
      "execution_count": 17,
      "outputs": [
        {
          "output_type": "stream",
          "name": "stdout",
          "text": [
            "key:0 word:!\n",
            "key:1 word:\"\n",
            "key:2 word:'\n",
            "key:3 word:(\n",
            "key:4 word:)\n",
            "key:5 word:,\n",
            "key:6 word:--\n",
            "key:7 word:.\n",
            "key:8 word::\n",
            "key:9 word:;\n",
            "key:10 word:?\n",
            "key:11 word:A\n",
            "key:12 word:Ah\n",
            "key:13 word:Among\n",
            "key:14 word:And\n",
            "key:15 word:Are\n",
            "key:16 word:Arrt\n",
            "key:17 word:As\n",
            "key:18 word:At\n",
            "key:19 word:Be\n",
            "key:20 word:Begin\n"
          ]
        }
      ]
    },
    {
      "cell_type": "code",
      "source": [
        "class SimpleTokenizerv1():\n",
        "  def __init__(self,vocabulary):\n",
        "\n",
        "    self.word_to_key = {}\n",
        "    self.key_to_word = {}\n",
        "    for i,word in enumerate(preprocessed):\n",
        "      self.word_to_key[word] = i\n",
        "      self.key_to_word[i] = word\n",
        "\n",
        "\n",
        "  def encode(self,text):\n",
        "    pro_text = re.split(r'([,.:;?_!\"()\\']|--|\\s)',text)\n",
        "    pro_text = [item.strip() for item in pro_text if item.strip()]\n",
        "    encoded = []\n",
        "    for word in pro_text:\n",
        "      encoded.append(self.word_to_key[word])\n",
        "    return encoded\n",
        "\n",
        "  def decode(self,encoded):\n",
        "    ans = []\n",
        "    # print(self.key_to_word)\n",
        "    for key in encoded:\n",
        "      ans.append(self.key_to_word[key])\n",
        "    text = ' '.join(ans)\n",
        "    text = re.sub(r'\\s+([,.?!\"()\\'])', r'\\1', text)\n",
        "    return text\n",
        "\n",
        "\n"
      ],
      "metadata": {
        "id": "5HKrNaU_dm5h"
      },
      "execution_count": 18,
      "outputs": []
    },
    {
      "cell_type": "code",
      "source": [
        "#preprocessed\n",
        "text = \"\"\"\"It's the last he painted, you know,\"\n",
        "           Mrs. Gisburn said with pardonable pride.\"\"\""
      ],
      "metadata": {
        "id": "nMGNHZa4PI7v"
      },
      "execution_count": 19,
      "outputs": []
    },
    {
      "cell_type": "code",
      "source": [
        "tokenizer = SimpleTokenizerv1(preprocessed)\n",
        "encoded_text = tokenizer.encode(text)\n",
        "print(encoded_text)"
      ],
      "metadata": {
        "colab": {
          "base_uri": "https://localhost:8080/"
        },
        "id": "CgqEqCZZNCaX",
        "outputId": "0c9c5171-8596-4152-a78e-021a984b16bd"
      },
      "execution_count": 20,
      "outputs": [
        {
          "output_type": "stream",
          "name": "stdout",
          "text": [
            "[1, 56, 2, 850, 988, 602, 533, 746, 5, 1126, 596, 5, 1, 67, 7, 38, 851, 1108, 754, 793, 7]\n"
          ]
        }
      ]
    },
    {
      "cell_type": "code",
      "source": [
        "decoded_text = tokenizer.decode(encoded_text)\n",
        "print(decoded_text)"
      ],
      "metadata": {
        "colab": {
          "base_uri": "https://localhost:8080/"
        },
        "id": "Ir7w2_41Ner8",
        "outputId": "16d904e8-bbc7-4063-dd5e-8038524433ab"
      },
      "execution_count": 21,
      "outputs": [
        {
          "output_type": "stream",
          "name": "stdout",
          "text": [
            "\" It' s the last he painted, you know,\" Mrs. Gisburn said with pardonable pride.\n"
          ]
        }
      ]
    },
    {
      "cell_type": "code",
      "source": [
        "text = \"Hello, do you like tea. Is this-- a test?\"\n"
      ],
      "metadata": {
        "id": "GyMxBApwPzuD"
      },
      "execution_count": 23,
      "outputs": []
    },
    {
      "cell_type": "markdown",
      "source": [
        "Adding Special tokens to the simple tokenizer"
      ],
      "metadata": {
        "id": "LGB-vHmrTGmQ"
      }
    },
    {
      "cell_type": "code",
      "source": [],
      "metadata": {
        "id": "oRy1bxxjRXWj"
      },
      "execution_count": null,
      "outputs": []
    }
  ]
}