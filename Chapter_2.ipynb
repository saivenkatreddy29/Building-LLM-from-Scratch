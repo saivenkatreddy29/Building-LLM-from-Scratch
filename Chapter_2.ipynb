{
  "nbformat": 4,
  "nbformat_minor": 0,
  "metadata": {
    "colab": {
      "provenance": [],
      "authorship_tag": "ABX9TyMsAZybi/m+1nRmjSt7nVMk",
      "include_colab_link": true
    },
    "kernelspec": {
      "name": "python3",
      "display_name": "Python 3"
    },
    "language_info": {
      "name": "python"
    }
  },
  "cells": [
    {
      "cell_type": "markdown",
      "metadata": {
        "id": "view-in-github",
        "colab_type": "text"
      },
      "source": [
        "<a href=\"https://colab.research.google.com/github/saivenkatreddy29/Building-LLM-from-Scratch/blob/main/Chapter_2.ipynb\" target=\"_parent\"><img src=\"https://colab.research.google.com/assets/colab-badge.svg\" alt=\"Open In Colab\"/></a>"
      ]
    },
    {
      "cell_type": "code",
      "source": [
        "!pip install tiktoken"
      ],
      "metadata": {
        "colab": {
          "base_uri": "https://localhost:8080/"
        },
        "id": "ZF0sGSJwSu_N",
        "outputId": "5aa219bd-c444-4d16-d0b8-8622ede7931c"
      },
      "execution_count": null,
      "outputs": [
        {
          "output_type": "stream",
          "name": "stdout",
          "text": [
            "Collecting tiktoken\n",
            "  Downloading tiktoken-0.8.0-cp310-cp310-manylinux_2_17_x86_64.manylinux2014_x86_64.whl.metadata (6.6 kB)\n",
            "Requirement already satisfied: regex>=2022.1.18 in /usr/local/lib/python3.10/dist-packages (from tiktoken) (2024.11.6)\n",
            "Requirement already satisfied: requests>=2.26.0 in /usr/local/lib/python3.10/dist-packages (from tiktoken) (2.32.3)\n",
            "Requirement already satisfied: charset-normalizer<4,>=2 in /usr/local/lib/python3.10/dist-packages (from requests>=2.26.0->tiktoken) (3.4.0)\n",
            "Requirement already satisfied: idna<4,>=2.5 in /usr/local/lib/python3.10/dist-packages (from requests>=2.26.0->tiktoken) (3.10)\n",
            "Requirement already satisfied: urllib3<3,>=1.21.1 in /usr/local/lib/python3.10/dist-packages (from requests>=2.26.0->tiktoken) (2.2.3)\n",
            "Requirement already satisfied: certifi>=2017.4.17 in /usr/local/lib/python3.10/dist-packages (from requests>=2.26.0->tiktoken) (2024.12.14)\n",
            "Downloading tiktoken-0.8.0-cp310-cp310-manylinux_2_17_x86_64.manylinux2014_x86_64.whl (1.2 MB)\n",
            "\u001b[2K   \u001b[90m━━━━━━━━━━━━━━━━━━━━━━━━━━━━━━━━━━━━━━━━\u001b[0m \u001b[32m1.2/1.2 MB\u001b[0m \u001b[31m11.2 MB/s\u001b[0m eta \u001b[36m0:00:00\u001b[0m\n",
            "\u001b[?25hInstalling collected packages: tiktoken\n",
            "Successfully installed tiktoken-0.8.0\n"
          ]
        }
      ]
    },
    {
      "cell_type": "code",
      "source": [
        "import torch\n",
        "from importlib.metadata import version\n",
        "\n",
        "print('torch version', version('torch'))\n",
        "print('tiktoken version',version('tiktoken'))"
      ],
      "metadata": {
        "colab": {
          "base_uri": "https://localhost:8080/"
        },
        "id": "cgTJ8q29RSbD",
        "outputId": "ec34f2b8-c44b-48e2-9498-a0496d21dff5"
      },
      "execution_count": null,
      "outputs": [
        {
          "output_type": "stream",
          "name": "stdout",
          "text": [
            "torch version 2.5.1+cu121\n",
            "tiktoken version 0.8.0\n"
          ]
        }
      ]
    },
    {
      "cell_type": "code",
      "source": [
        "import os\n",
        "import requests\n",
        "path = \"the-verdict.txt\"\n",
        "url =  (\"https://raw.githubusercontent.com/rasbt/\"\n",
        "           \"LLMs-from-scratch/main/ch02/01_main-chapter-code/\"\n",
        "           \"the-verdict.txt\")\n",
        "if os.path.exists(path):\n",
        "  print(\"The file already exist\")\n",
        "else:\n",
        "  print(\"The file doesn't exist downloading.....\")\n",
        "  response = requests.get(url)\n",
        "  if response.status_code == 200:\n",
        "    print('Download completed')\n",
        "    with open(path,'wb') as f:\n",
        "      f.write(response.content)\n",
        "  else:\n",
        "    print('Download Failed')\n"
      ],
      "metadata": {
        "colab": {
          "base_uri": "https://localhost:8080/"
        },
        "id": "vVFkCudTRSXa",
        "outputId": "ddd17d2a-bdc1-4918-bd86-d7398a183f65"
      },
      "execution_count": null,
      "outputs": [
        {
          "output_type": "stream",
          "name": "stdout",
          "text": [
            "The file doesn't exist downloading.....\n",
            "Download completed\n"
          ]
        }
      ]
    },
    {
      "cell_type": "code",
      "source": [
        "import re\n",
        "text =  \"Hello, world. This, is a test.\"\n",
        "result = re.split(r'\\s',text)\n",
        "print(result)"
      ],
      "metadata": {
        "colab": {
          "base_uri": "https://localhost:8080/"
        },
        "id": "mDV12fCYRST0",
        "outputId": "7fe55171-dee1-4c57-c630-f9739e621510"
      },
      "execution_count": null,
      "outputs": [
        {
          "output_type": "stream",
          "name": "stdout",
          "text": [
            "['Hello,', 'world.', 'This,', 'is', 'a', 'test.']\n"
          ]
        }
      ]
    },
    {
      "cell_type": "code",
      "execution_count": null,
      "metadata": {
        "colab": {
          "base_uri": "https://localhost:8080/"
        },
        "id": "NEzi_9n_RRpB",
        "outputId": "b23e0ec4-d1f8-4b20-968e-03556f08b98c"
      },
      "outputs": [
        {
          "output_type": "stream",
          "name": "stdout",
          "text": [
            "['Hello', ',', '', ' ', 'world', '.', '', ' ', 'This', ',', '', ' ', 'is', ' ', 'a', ' ', 'test', '.', '']\n"
          ]
        }
      ],
      "source": [
        "result = re.split(r'([,.]|\\s)',text)\n",
        "print(result)"
      ]
    },
    {
      "cell_type": "code",
      "source": [
        "result = [item for item in result if item.strip()]\n",
        "print(result)"
      ],
      "metadata": {
        "colab": {
          "base_uri": "https://localhost:8080/"
        },
        "id": "2DdMex5rXWeH",
        "outputId": "2de5044f-9fa9-4005-f9d5-95630f5ed7e0"
      },
      "execution_count": null,
      "outputs": [
        {
          "output_type": "stream",
          "name": "stdout",
          "text": [
            "['Hello', ',', 'world', '.', 'This', ',', 'is', 'a', 'test', '.']\n"
          ]
        }
      ]
    },
    {
      "cell_type": "code",
      "source": [
        "text = \"Hello, world. Is this-- a test?\"\n",
        "\n",
        "result = re.split(r'([,.:;?_!\"()\\']|--|\\s)',text)\n",
        "result = [item for item in result if item.strip()]"
      ],
      "metadata": {
        "id": "uamJW4_BXb73"
      },
      "execution_count": null,
      "outputs": []
    },
    {
      "cell_type": "code",
      "source": [
        "result"
      ],
      "metadata": {
        "colab": {
          "base_uri": "https://localhost:8080/"
        },
        "id": "WmVadCM4Zhaa",
        "outputId": "6b046d20-701d-4a57-d0c7-8780b762067a"
      },
      "execution_count": null,
      "outputs": [
        {
          "output_type": "execute_result",
          "data": {
            "text/plain": [
              "['Hello', ',', 'world', '.', 'Is', 'this', '--', 'a', 'test', '?']"
            ]
          },
          "metadata": {},
          "execution_count": 9
        }
      ]
    },
    {
      "cell_type": "code",
      "source": [
        "with open(path, 'r',  encoding=\"utf-8\") as f:\n",
        "  raw_text = f.read()"
      ],
      "metadata": {
        "id": "gbwQmbpLZ-gW"
      },
      "execution_count": null,
      "outputs": []
    },
    {
      "cell_type": "code",
      "source": [
        "raw_text[:10]"
      ],
      "metadata": {
        "colab": {
          "base_uri": "https://localhost:8080/",
          "height": 35
        },
        "id": "3b_7TQhiaLOc",
        "outputId": "4403aa22-4afe-4a6a-de54-4322c3c1d146"
      },
      "execution_count": null,
      "outputs": [
        {
          "output_type": "execute_result",
          "data": {
            "text/plain": [
              "'I HAD alwa'"
            ],
            "application/vnd.google.colaboratory.intrinsic+json": {
              "type": "string"
            }
          },
          "metadata": {},
          "execution_count": 11
        }
      ]
    },
    {
      "cell_type": "code",
      "source": [
        "preprocessed = re.split(r'([,.:;?_!\"()\\']|--|\\s)',raw_text)\n",
        "preprocessed = [item.strip() for item in preprocessed if item.strip()]"
      ],
      "metadata": {
        "id": "fpvJXzDvZr5e"
      },
      "execution_count": null,
      "outputs": []
    },
    {
      "cell_type": "code",
      "source": [
        "print(preprocessed[:20])"
      ],
      "metadata": {
        "colab": {
          "base_uri": "https://localhost:8080/"
        },
        "id": "4ddYE_wNaTBu",
        "outputId": "150a4109-0d26-4ed4-d74c-3f9d9cb8ce04"
      },
      "execution_count": null,
      "outputs": [
        {
          "output_type": "stream",
          "name": "stdout",
          "text": [
            "['I', 'HAD', 'always', 'thought', 'Jack', 'Gisburn', 'rather', 'a', 'cheap', 'genius', '--', 'though', 'a', 'good', 'fellow', 'enough', '--', 'so', 'it', 'was']\n"
          ]
        }
      ]
    },
    {
      "cell_type": "code",
      "source": [
        "len(preprocessed)"
      ],
      "metadata": {
        "colab": {
          "base_uri": "https://localhost:8080/"
        },
        "id": "OA6gCxTqaU8Z",
        "outputId": "6f3f61d0-248d-4869-8893-80475dcf6760"
      },
      "execution_count": null,
      "outputs": [
        {
          "output_type": "execute_result",
          "data": {
            "text/plain": [
              "4690"
            ]
          },
          "metadata": {},
          "execution_count": 14
        }
      ]
    },
    {
      "cell_type": "code",
      "source": [
        "preprocessed = sorted(set(preprocessed))\n",
        "preprocessed[:20]"
      ],
      "metadata": {
        "colab": {
          "base_uri": "https://localhost:8080/"
        },
        "id": "o8ONnmzRcplM",
        "outputId": "0228b338-ffc1-4b31-e9d2-f8df038a5521"
      },
      "execution_count": null,
      "outputs": [
        {
          "output_type": "execute_result",
          "data": {
            "text/plain": [
              "['!',\n",
              " '\"',\n",
              " \"'\",\n",
              " '(',\n",
              " ')',\n",
              " ',',\n",
              " '--',\n",
              " '.',\n",
              " ':',\n",
              " ';',\n",
              " '?',\n",
              " 'A',\n",
              " 'Ah',\n",
              " 'Among',\n",
              " 'And',\n",
              " 'Are',\n",
              " 'Arrt',\n",
              " 'As',\n",
              " 'At',\n",
              " 'Be']"
            ]
          },
          "metadata": {},
          "execution_count": 15
        }
      ]
    },
    {
      "cell_type": "code",
      "source": [
        "len(preprocessed)"
      ],
      "metadata": {
        "colab": {
          "base_uri": "https://localhost:8080/"
        },
        "id": "SAPvYeTSGpF0",
        "outputId": "dea42393-5c17-4481-ee75-3ea6d0dbd983"
      },
      "execution_count": null,
      "outputs": [
        {
          "output_type": "execute_result",
          "data": {
            "text/plain": [
              "1130"
            ]
          },
          "metadata": {},
          "execution_count": 16
        }
      ]
    },
    {
      "cell_type": "code",
      "source": [
        "word_to_in = {}\n",
        "in_to_word = {}\n",
        "\n",
        "for i,word in enumerate(preprocessed):\n",
        "  word_to_in[word] = i\n",
        "  in_to_word[i] = word"
      ],
      "metadata": {
        "id": "Ls8ai2RXaz64"
      },
      "execution_count": null,
      "outputs": []
    },
    {
      "cell_type": "code",
      "source": [
        "for word,key in word_to_in.items():\n",
        "  print(f'word:{word},key:{key}')\n",
        "  if key>=20:\n",
        "    break"
      ],
      "metadata": {
        "colab": {
          "base_uri": "https://localhost:8080/"
        },
        "id": "0gykMaFZbkK_",
        "outputId": "8b8a6da3-f371-4f79-98f4-99edd035a1b6"
      },
      "execution_count": null,
      "outputs": [
        {
          "output_type": "stream",
          "name": "stdout",
          "text": [
            "word:!,key:0\n",
            "word:\",key:1\n",
            "word:',key:2\n",
            "word:(,key:3\n",
            "word:),key:4\n",
            "word:,,key:5\n",
            "word:--,key:6\n",
            "word:.,key:7\n",
            "word::,key:8\n",
            "word:;,key:9\n",
            "word:?,key:10\n",
            "word:A,key:11\n",
            "word:Ah,key:12\n",
            "word:Among,key:13\n",
            "word:And,key:14\n",
            "word:Are,key:15\n",
            "word:Arrt,key:16\n",
            "word:As,key:17\n",
            "word:At,key:18\n",
            "word:Be,key:19\n",
            "word:Begin,key:20\n"
          ]
        }
      ]
    },
    {
      "cell_type": "code",
      "source": [
        "for key,word in in_to_word.items():\n",
        "  print(f'key:{key} word:{word}')\n",
        "  if key>=20:\n",
        "    break"
      ],
      "metadata": {
        "colab": {
          "base_uri": "https://localhost:8080/"
        },
        "id": "xOdpHIIPbjvk",
        "outputId": "0f55f47a-4b7f-4b2d-ed92-4cfb46e37ccc"
      },
      "execution_count": null,
      "outputs": [
        {
          "output_type": "stream",
          "name": "stdout",
          "text": [
            "key:0 word:!\n",
            "key:1 word:\"\n",
            "key:2 word:'\n",
            "key:3 word:(\n",
            "key:4 word:)\n",
            "key:5 word:,\n",
            "key:6 word:--\n",
            "key:7 word:.\n",
            "key:8 word::\n",
            "key:9 word:;\n",
            "key:10 word:?\n",
            "key:11 word:A\n",
            "key:12 word:Ah\n",
            "key:13 word:Among\n",
            "key:14 word:And\n",
            "key:15 word:Are\n",
            "key:16 word:Arrt\n",
            "key:17 word:As\n",
            "key:18 word:At\n",
            "key:19 word:Be\n",
            "key:20 word:Begin\n"
          ]
        }
      ]
    },
    {
      "cell_type": "code",
      "source": [
        "class SimpleTokenizerv1():\n",
        "  def __init__(self,vocabulary):\n",
        "\n",
        "    self.word_to_key = {}\n",
        "    self.key_to_word = {}\n",
        "    for i,word in enumerate(preprocessed):\n",
        "      self.word_to_key[word] = i\n",
        "      self.key_to_word[i] = word\n",
        "\n",
        "\n",
        "  def encode(self,text):\n",
        "    pro_text = re.split(r'([,.:;?_!\"()\\']|--|\\s)',text)\n",
        "    pro_text = [item.strip() for item in pro_text if item.strip()]\n",
        "    encoded = []\n",
        "    for word in pro_text:\n",
        "      encoded.append(self.word_to_key[word])\n",
        "    return encoded\n",
        "\n",
        "  def decode(self,encoded):\n",
        "    ans = []\n",
        "    # print(self.key_to_word)\n",
        "    for key in encoded:\n",
        "      ans.append(self.key_to_word[key])\n",
        "    text = ' '.join(ans)\n",
        "    text = re.sub(r'\\s+([,.?!\"()\\'])', r'\\1', text)\n",
        "    return text\n",
        "\n",
        "\n"
      ],
      "metadata": {
        "id": "5HKrNaU_dm5h"
      },
      "execution_count": null,
      "outputs": []
    },
    {
      "cell_type": "code",
      "source": [
        "#preprocessed\n",
        "text = \"\"\"\"It's the last he painted, you know,\"\n",
        "           Mrs. Gisburn said with pardonable pride.\"\"\""
      ],
      "metadata": {
        "id": "nMGNHZa4PI7v"
      },
      "execution_count": null,
      "outputs": []
    },
    {
      "cell_type": "code",
      "source": [
        "tokenizer = SimpleTokenizerv1(preprocessed)\n",
        "encoded_text = tokenizer.encode(text)\n",
        "print(encoded_text)"
      ],
      "metadata": {
        "colab": {
          "base_uri": "https://localhost:8080/"
        },
        "id": "CgqEqCZZNCaX",
        "outputId": "aec5fa7e-a66d-4fba-e0ae-b79b40162946"
      },
      "execution_count": null,
      "outputs": [
        {
          "output_type": "stream",
          "name": "stdout",
          "text": [
            "[1, 56, 2, 850, 988, 602, 533, 746, 5, 1126, 596, 5, 1, 67, 7, 38, 851, 1108, 754, 793, 7]\n"
          ]
        }
      ]
    },
    {
      "cell_type": "code",
      "source": [
        "decoded_text = tokenizer.decode(encoded_text)\n",
        "print(decoded_text)"
      ],
      "metadata": {
        "colab": {
          "base_uri": "https://localhost:8080/"
        },
        "id": "Ir7w2_41Ner8",
        "outputId": "64f46850-f4da-4e8a-b2ea-5615f285b7e2"
      },
      "execution_count": null,
      "outputs": [
        {
          "output_type": "stream",
          "name": "stdout",
          "text": [
            "\" It' s the last he painted, you know,\" Mrs. Gisburn said with pardonable pride.\n"
          ]
        }
      ]
    },
    {
      "cell_type": "code",
      "source": [
        "text = \"Hello, do you like tea. Is this-- a test?\"\n"
      ],
      "metadata": {
        "id": "GyMxBApwPzuD"
      },
      "execution_count": null,
      "outputs": []
    },
    {
      "cell_type": "markdown",
      "source": [
        "Adding Special tokens to the simple tokenizer"
      ],
      "metadata": {
        "id": "LGB-vHmrTGmQ"
      }
    },
    {
      "cell_type": "code",
      "source": [
        "preprocessed.extend([\"<|endoftext|>\", \"<|unk|>\"])"
      ],
      "metadata": {
        "id": "EzuUr4abGSAa"
      },
      "execution_count": null,
      "outputs": []
    },
    {
      "cell_type": "code",
      "source": [
        "len(preprocessed)"
      ],
      "metadata": {
        "colab": {
          "base_uri": "https://localhost:8080/"
        },
        "id": "CYSlNhNFGR9K",
        "outputId": "56965ac3-3dab-45b7-c1a2-f8e9c512fdb0"
      },
      "execution_count": null,
      "outputs": [
        {
          "output_type": "execute_result",
          "data": {
            "text/plain": [
              "1132"
            ]
          },
          "metadata": {},
          "execution_count": 26
        }
      ]
    },
    {
      "cell_type": "code",
      "source": [
        "preprocessed[-3:]"
      ],
      "metadata": {
        "colab": {
          "base_uri": "https://localhost:8080/"
        },
        "id": "oRy1bxxjRXWj",
        "outputId": "dba85004-15d8-4aa8-9358-547183d89bd0"
      },
      "execution_count": null,
      "outputs": [
        {
          "output_type": "execute_result",
          "data": {
            "text/plain": [
              "['yourself', '<|endoftext|>', '<|unk|>']"
            ]
          },
          "metadata": {},
          "execution_count": 27
        }
      ]
    },
    {
      "cell_type": "code",
      "source": [
        "class SimpleTokenizerv2:\n",
        "  def __init__(self, vocabulary):\n",
        "    self.word_to_int = {}\n",
        "    self.int_to_word = {}\n",
        "\n",
        "    for key,word in enumerate(vocabulary):\n",
        "      self.word_to_int[word] = key\n",
        "      self.int_to_word[key] = word\n",
        "\n",
        "  def encode(self, query):\n",
        "    # print(query)\n",
        "    ans = []\n",
        "    text = re.split(r'([,.:;?_!\"()\\']|--|\\s)',query)\n",
        "    text = [result.strip() for result in text if result.strip()]\n",
        "    # print(f'text:{text}')\n",
        "    for word in text:\n",
        "      if word in self.word_to_int:\n",
        "        ans.append(self.word_to_int[word])\n",
        "      else:\n",
        "        ans.append(self.word_to_int[\"<|unk|>\"])\n",
        "    return ans\n",
        "  def decode(self,code):\n",
        "    ans = []\n",
        "    for token in code:\n",
        "      ans.append(self.int_to_word[token])\n",
        "    text = ' '.join(ans)\n",
        "    text = re.sub(r'\\s+([,.?!\"()\\'])', r'\\1', text)\n",
        "    return text\n",
        "\n",
        "\n",
        "\n"
      ],
      "metadata": {
        "id": "wslU52UoGaRG"
      },
      "execution_count": null,
      "outputs": []
    },
    {
      "cell_type": "code",
      "source": [
        "tokenizer = SimpleTokenizerv2(preprocessed)\n",
        "\n",
        "text1 = \"Hello, do you like tea?\"\n",
        "text2 = \"In the sunlit terraces of the palace.\"\n",
        "\n",
        "text = ' <|endoftext|> '.join((text1,text2))\n",
        "print(text)\n",
        "\n"
      ],
      "metadata": {
        "id": "MibBD3gbGaNq",
        "colab": {
          "base_uri": "https://localhost:8080/"
        },
        "outputId": "40fc1614-9ed6-41f0-d8cb-b21f86d7a189"
      },
      "execution_count": null,
      "outputs": [
        {
          "output_type": "stream",
          "name": "stdout",
          "text": [
            "Hello, do you like tea? <|endoftext|> In the sunlit terraces of the palace.\n"
          ]
        }
      ]
    },
    {
      "cell_type": "code",
      "source": [
        "encoded_text = tokenizer.encode(text)\n",
        "print(encoded_text)"
      ],
      "metadata": {
        "colab": {
          "base_uri": "https://localhost:8080/"
        },
        "id": "nWGq9Er0jbHO",
        "outputId": "0db7f7bc-a4e1-4716-a3a7-f15f0a74d81d"
      },
      "execution_count": null,
      "outputs": [
        {
          "output_type": "stream",
          "name": "stdout",
          "text": [
            "[1131, 5, 355, 1126, 628, 975, 10, 1130, 55, 988, 956, 984, 722, 988, 1131, 7]\n"
          ]
        }
      ]
    },
    {
      "cell_type": "code",
      "source": [
        "decoded_text = tokenizer.decode(encoded_text)\n",
        "print(decoded_text)"
      ],
      "metadata": {
        "colab": {
          "base_uri": "https://localhost:8080/"
        },
        "id": "au5DoiANjbDy",
        "outputId": "60e7705a-02b8-4026-e8db-0ee6dcaddbfd"
      },
      "execution_count": null,
      "outputs": [
        {
          "output_type": "stream",
          "name": "stdout",
          "text": [
            "<|unk|>, do you like tea? <|endoftext|> In the sunlit terraces of the <|unk|>.\n"
          ]
        }
      ]
    },
    {
      "cell_type": "markdown",
      "source": [
        "# Byte Pair Encoding"
      ],
      "metadata": {
        "id": "AbrMZwLMrrCP"
      }
    },
    {
      "cell_type": "code",
      "source": [
        "import importlib\n",
        "import tiktoken\n",
        "tokenizer = tiktoken.get_encoding('gpt2')"
      ],
      "metadata": {
        "id": "kW_mbGzwMQ1w"
      },
      "execution_count": null,
      "outputs": []
    },
    {
      "cell_type": "code",
      "source": [
        "text = (\n",
        "    \"Hello, do you like tea? <|endoftext|> In the sunlit terraces\"\n",
        "     \"of someunknownPlace.\"\n",
        ")\n",
        "\n",
        "integers = tokenizer.encode(text,\n",
        "                            allowed_special = {\"<|endoftext|>\"})\n",
        "\n",
        "print(integers)"
      ],
      "metadata": {
        "colab": {
          "base_uri": "https://localhost:8080/"
        },
        "id": "DiMzyLnur8aJ",
        "outputId": "295f5a77-e456-4abd-9136-c1f99d8122a7"
      },
      "execution_count": null,
      "outputs": [
        {
          "output_type": "stream",
          "name": "stdout",
          "text": [
            "[15496, 11, 466, 345, 588, 8887, 30, 220, 50256, 554, 262, 4252, 18250, 8812, 2114, 1659, 617, 34680, 27271, 13]\n"
          ]
        }
      ]
    },
    {
      "cell_type": "code",
      "source": [
        "strings = tokenizer.decode(integers)\n",
        "print(strings)"
      ],
      "metadata": {
        "colab": {
          "base_uri": "https://localhost:8080/"
        },
        "id": "So6sekMKsP9V",
        "outputId": "38b9a2e1-ff1e-45d0-c782-84e22f7deacf"
      },
      "execution_count": null,
      "outputs": [
        {
          "output_type": "stream",
          "name": "stdout",
          "text": [
            "Hello, do you like tea? <|endoftext|> In the sunlit terracesof someunknownPlace.\n"
          ]
        }
      ]
    },
    {
      "cell_type": "markdown",
      "source": [
        "# Data Sampling with sliding window"
      ],
      "metadata": {
        "id": "4i4NwKGauYds"
      }
    },
    {
      "cell_type": "code",
      "source": [
        "with open(path,'r',encoding = 'utf-8') as f:\n",
        "  raw_text = f.read()\n",
        "\n",
        "enc_text = tokenizer.encode(raw_text)\n",
        "print(len(enc_text))"
      ],
      "metadata": {
        "colab": {
          "base_uri": "https://localhost:8080/"
        },
        "id": "vqnaorDTuSvH",
        "outputId": "73ac2986-51b6-4479-f458-c7222a669ed8"
      },
      "execution_count": null,
      "outputs": [
        {
          "output_type": "stream",
          "name": "stdout",
          "text": [
            "5145\n"
          ]
        }
      ]
    },
    {
      "cell_type": "code",
      "source": [
        "enc_text[:10]"
      ],
      "metadata": {
        "colab": {
          "base_uri": "https://localhost:8080/"
        },
        "id": "M547XSUjutXs",
        "outputId": "a356c126-fff0-4f01-d63b-91e6a43e7c6f"
      },
      "execution_count": null,
      "outputs": [
        {
          "output_type": "execute_result",
          "data": {
            "text/plain": [
              "[40, 367, 2885, 1464, 1807, 3619, 402, 271, 10899, 2138]"
            ]
          },
          "metadata": {},
          "execution_count": 36
        }
      ]
    },
    {
      "cell_type": "code",
      "source": [
        "x = enc_text[:4]\n",
        "y = enc_text[1:4+1]\n",
        "print(f'input: {x}')\n",
        "print(f'target output: {y}')"
      ],
      "metadata": {
        "colab": {
          "base_uri": "https://localhost:8080/"
        },
        "id": "cBITWCzhuznW",
        "outputId": "6a57bf51-d202-4ed2-c62d-13a844bca9b4"
      },
      "execution_count": null,
      "outputs": [
        {
          "output_type": "stream",
          "name": "stdout",
          "text": [
            "input: [40, 367, 2885, 1464]\n",
            "target output: [367, 2885, 1464, 1807]\n"
          ]
        }
      ]
    },
    {
      "cell_type": "code",
      "source": [
        "context_size = 4\n",
        "for i in range(1,context_size):\n",
        "  context = enc_text[:i]\n",
        "  label = enc_text[:i+1]\n",
        "  print(f'context: {context}')\n",
        "  print(f'label: {label}')"
      ],
      "metadata": {
        "colab": {
          "base_uri": "https://localhost:8080/"
        },
        "id": "7AbfYX71u_Pa",
        "outputId": "4cc2d42c-3a24-4b50-b8c6-08a72db89c06"
      },
      "execution_count": null,
      "outputs": [
        {
          "output_type": "stream",
          "name": "stdout",
          "text": [
            "context: [40]\n",
            "label: [40, 367]\n",
            "context: [40, 367]\n",
            "label: [40, 367, 2885]\n",
            "context: [40, 367, 2885]\n",
            "label: [40, 367, 2885, 1464]\n"
          ]
        }
      ]
    },
    {
      "cell_type": "markdown",
      "source": [
        "# Creating a dataset"
      ],
      "metadata": {
        "id": "ht7fT2OFwAwm"
      }
    },
    {
      "cell_type": "code",
      "source": [
        "from torch.utils.data import Dataset,DataLoader\n",
        "class GPTDatasetv1(Dataset):\n",
        "  def __init__(self,text,tokenizer,\n",
        "               context_len, stride):\n",
        "    self.text = tokenizer.encode(text,\n",
        "                                 allowed_special = {\"<|endoftext|>\"})\n",
        "    self.inputs = []\n",
        "\n",
        "    self.labels = []\n",
        "    self.len = len(self.text)\n",
        "    for i in range(1,self.len - context_len,stride):\n",
        "      self.input = self.text[i:i+context_len]\n",
        "      self.label = self.text[i+1:i+context_len+1]\n",
        "      self.inputs.append(torch.tensor(self.input))\n",
        "      self.labels.append(torch.tensor(self.label))\n",
        "  def __len__(self):\n",
        "    return len(self.inputs)\n",
        "\n",
        "  def __getitem__(self,idx):\n",
        "    return self.inputs[idx], self.labels[idx]\n",
        "\n",
        "\n",
        "\n"
      ],
      "metadata": {
        "id": "BizWu3FHv1_P"
      },
      "execution_count": null,
      "outputs": []
    },
    {
      "cell_type": "code",
      "source": [
        "enc = GPTDatasetv1(raw_text,\n",
        "                   tokenizer,\n",
        "                   context_len = 4,\n",
        "                   stride = 1)"
      ],
      "metadata": {
        "id": "7bndDIQwylLM"
      },
      "execution_count": null,
      "outputs": []
    },
    {
      "cell_type": "code",
      "source": [
        "enc.__len__()"
      ],
      "metadata": {
        "colab": {
          "base_uri": "https://localhost:8080/"
        },
        "id": "Ebfq25Xiyzln",
        "outputId": "69619e89-9fa1-4801-e580-a2e5c11a8f2e"
      },
      "execution_count": null,
      "outputs": [
        {
          "output_type": "execute_result",
          "data": {
            "text/plain": [
              "5140"
            ]
          },
          "metadata": {},
          "execution_count": 41
        }
      ]
    },
    {
      "cell_type": "code",
      "source": [
        "enc.__getitem__(2)"
      ],
      "metadata": {
        "colab": {
          "base_uri": "https://localhost:8080/"
        },
        "id": "AjjyMpKP0KM4",
        "outputId": "ac78f540-7e96-498e-c4c0-94df3d52c2ef"
      },
      "execution_count": null,
      "outputs": [
        {
          "output_type": "execute_result",
          "data": {
            "text/plain": [
              "(tensor([1464, 1807, 3619,  402]), tensor([1807, 3619,  402,  271]))"
            ]
          },
          "metadata": {},
          "execution_count": 42
        }
      ]
    },
    {
      "cell_type": "code",
      "source": [
        "def create_dataloader(text,\n",
        "                      batch_size = 4,\n",
        "                      context_len = 256,\n",
        "                      stride = 128,\n",
        "                      shuffle = True,\n",
        "                      drop_last = True,\n",
        "                      num_workers = 0\n",
        "                      ):\n",
        "  tokenizer = tiktoken.get_encoding('gpt2')\n",
        "  dataset = GPTDatasetv1(text,\n",
        "                   tokenizer,\n",
        "                   context_len = context_len,\n",
        "                   stride = stride)\n",
        "  dataloader = DataLoader(\n",
        "      dataset = dataset,\n",
        "      batch_size = batch_size,\n",
        "      shuffle = shuffle,\n",
        "      drop_last = drop_last,\n",
        "      num_workers = 0\n",
        "\n",
        "  )\n",
        "  return dataloader"
      ],
      "metadata": {
        "id": "pYghhIvI0N-g"
      },
      "execution_count": null,
      "outputs": []
    },
    {
      "cell_type": "code",
      "source": [
        "dataloader = create_dataloader(text = raw_text,context_len = 4,\n",
        "                      stride = 1,shuffle = False)"
      ],
      "metadata": {
        "id": "Q6j_DjB72ZD-"
      },
      "execution_count": null,
      "outputs": []
    },
    {
      "cell_type": "code",
      "source": [
        "dataloader"
      ],
      "metadata": {
        "colab": {
          "base_uri": "https://localhost:8080/"
        },
        "id": "Eym3XD402lkB",
        "outputId": "e44602d7-764a-464d-a478-55096615d68b"
      },
      "execution_count": null,
      "outputs": [
        {
          "output_type": "execute_result",
          "data": {
            "text/plain": [
              "<torch.utils.data.dataloader.DataLoader at 0x795f00b4a410>"
            ]
          },
          "metadata": {},
          "execution_count": 45
        }
      ]
    },
    {
      "cell_type": "code",
      "source": [
        "data_iter = iter(dataloader)\n",
        "first_batch = next(data_iter)\n",
        "print(first_batch)\n"
      ],
      "metadata": {
        "colab": {
          "base_uri": "https://localhost:8080/"
        },
        "id": "woqHBymB2mnb",
        "outputId": "96a41f3e-d149-4024-980c-d7d0c9c72438"
      },
      "execution_count": null,
      "outputs": [
        {
          "output_type": "stream",
          "name": "stdout",
          "text": [
            "[tensor([[ 367, 2885, 1464, 1807],\n",
            "        [2885, 1464, 1807, 3619],\n",
            "        [1464, 1807, 3619,  402],\n",
            "        [1807, 3619,  402,  271]]), tensor([[ 2885,  1464,  1807,  3619],\n",
            "        [ 1464,  1807,  3619,   402],\n",
            "        [ 1807,  3619,   402,   271],\n",
            "        [ 3619,   402,   271, 10899]])]\n"
          ]
        }
      ]
    },
    {
      "cell_type": "code",
      "source": [
        "dataloader = create_dataloader(raw_text,\n",
        "                               batch_size = 8,\n",
        "                               context_len = 4,\n",
        "                               stride = 4,\n",
        "                               shuffle = False)\n",
        "\n",
        "data_iter = iter(dataloader)\n",
        "print(next(data_iter))"
      ],
      "metadata": {
        "colab": {
          "base_uri": "https://localhost:8080/"
        },
        "id": "vi13f7Hn2r81",
        "outputId": "09768dbe-e52c-4d94-ac5b-3b322fcb7513"
      },
      "execution_count": null,
      "outputs": [
        {
          "output_type": "stream",
          "name": "stdout",
          "text": [
            "[tensor([[  367,  2885,  1464,  1807],\n",
            "        [ 3619,   402,   271, 10899],\n",
            "        [ 2138,   257,  7026, 15632],\n",
            "        [  438,  2016,   257,   922],\n",
            "        [ 5891,  1576,   438,   568],\n",
            "        [  340,   373,   645,  1049],\n",
            "        [ 5975,   284,   502,   284],\n",
            "        [ 3285,   326,    11,   287]]), tensor([[ 2885,  1464,  1807,  3619],\n",
            "        [  402,   271, 10899,  2138],\n",
            "        [  257,  7026, 15632,   438],\n",
            "        [ 2016,   257,   922,  5891],\n",
            "        [ 1576,   438,   568,   340],\n",
            "        [  373,   645,  1049,  5975],\n",
            "        [  284,   502,   284,  3285],\n",
            "        [  326,    11,   287,   262]])]\n"
          ]
        }
      ]
    },
    {
      "cell_type": "markdown",
      "source": [
        "# Creating Token Embeddings"
      ],
      "metadata": {
        "id": "64LGHxH-44AR"
      }
    },
    {
      "cell_type": "code",
      "source": [
        "input_ids = torch.tensor([2,3,5,1])"
      ],
      "metadata": {
        "id": "hPOz9N8R4wMZ"
      },
      "execution_count": null,
      "outputs": []
    },
    {
      "cell_type": "code",
      "source": [
        "from torch import nn\n",
        "vocab_size = 6\n",
        "embedding_dim = 3\n",
        "\n",
        "\n",
        "torch.manual_seed(123)\n",
        "embedding_layer = nn.Embedding(vocab_size,embedding_dim)"
      ],
      "metadata": {
        "id": "Hvs8nPgFiqAm"
      },
      "execution_count": null,
      "outputs": []
    },
    {
      "cell_type": "code",
      "source": [
        "input_embeddings = embedding_layer(input_ids)\n",
        "print(input_embeddings)"
      ],
      "metadata": {
        "colab": {
          "base_uri": "https://localhost:8080/"
        },
        "id": "pLcD7SXyjAoF",
        "outputId": "21f99df6-97af-4fda-d58a-6f4054c8d4d7"
      },
      "execution_count": null,
      "outputs": [
        {
          "output_type": "stream",
          "name": "stdout",
          "text": [
            "tensor([[ 1.2753, -0.2010, -0.1606],\n",
            "        [-0.4015,  0.9666, -1.1481],\n",
            "        [-2.8400, -0.7849, -1.4096],\n",
            "        [ 0.9178,  1.5810,  1.3010]], grad_fn=<EmbeddingBackward0>)\n"
          ]
        }
      ]
    },
    {
      "cell_type": "code",
      "source": [
        "print(embedding_layer.weight)"
      ],
      "metadata": {
        "colab": {
          "base_uri": "https://localhost:8080/"
        },
        "id": "nu53RO2-jIn4",
        "outputId": "0d0ac900-60cf-4973-f658-6819942afc27"
      },
      "execution_count": null,
      "outputs": [
        {
          "output_type": "stream",
          "name": "stdout",
          "text": [
            "Parameter containing:\n",
            "tensor([[ 0.3374, -0.1778, -0.1690],\n",
            "        [ 0.9178,  1.5810,  1.3010],\n",
            "        [ 1.2753, -0.2010, -0.1606],\n",
            "        [-0.4015,  0.9666, -1.1481],\n",
            "        [-1.1589,  0.3255, -0.6315],\n",
            "        [-2.8400, -0.7849, -1.4096]], requires_grad=True)\n"
          ]
        }
      ]
    },
    {
      "cell_type": "markdown",
      "source": [
        "Encoding Word Positions"
      ],
      "metadata": {
        "id": "U4rHvao6jxgF"
      }
    },
    {
      "cell_type": "code",
      "source": [
        "vocab_size = 50257\n",
        "output_dim = 256\n",
        "\n",
        "token_embedding_layer = nn.Embedding(vocab_size,output_dim)"
      ],
      "metadata": {
        "id": "-BtLy7fBjU8k"
      },
      "execution_count": null,
      "outputs": []
    },
    {
      "cell_type": "code",
      "source": [
        "max_length = 4\n",
        "dataloader = create_dataloader(raw_text,\n",
        "                               batch_size = 8,\n",
        "                               context_len = 4,\n",
        "                               stride = 4,\n",
        "                               shuffle = False)\n",
        "data_iter = iter(dataloader)\n",
        "inputs,targets = next(data_iter)"
      ],
      "metadata": {
        "id": "MeHcGhZAkDIW"
      },
      "execution_count": null,
      "outputs": []
    },
    {
      "cell_type": "code",
      "source": [
        "print(f\"Inputs: {inputs}\\n\")\n",
        "print(f\"Outputs :{targets}\\n\")"
      ],
      "metadata": {
        "colab": {
          "base_uri": "https://localhost:8080/"
        },
        "id": "TVYf0tJhj1ox",
        "outputId": "7041a0a1-9cba-43ef-a9ef-9f52d34d85b5"
      },
      "execution_count": null,
      "outputs": [
        {
          "output_type": "stream",
          "name": "stdout",
          "text": [
            "Inputs: tensor([[  367,  2885,  1464,  1807],\n",
            "        [ 3619,   402,   271, 10899],\n",
            "        [ 2138,   257,  7026, 15632],\n",
            "        [  438,  2016,   257,   922],\n",
            "        [ 5891,  1576,   438,   568],\n",
            "        [  340,   373,   645,  1049],\n",
            "        [ 5975,   284,   502,   284],\n",
            "        [ 3285,   326,    11,   287]])\n",
            "\n",
            "Outputs :tensor([[ 2885,  1464,  1807,  3619],\n",
            "        [  402,   271, 10899,  2138],\n",
            "        [  257,  7026, 15632,   438],\n",
            "        [ 2016,   257,   922,  5891],\n",
            "        [ 1576,   438,   568,   340],\n",
            "        [  373,   645,  1049,  5975],\n",
            "        [  284,   502,   284,  3285],\n",
            "        [  326,    11,   287,   262]])\n",
            "\n"
          ]
        }
      ]
    },
    {
      "cell_type": "code",
      "source": [
        "token_embeddings = token_embedding_layer(inputs)\n",
        "print(token_embeddings.shape)"
      ],
      "metadata": {
        "colab": {
          "base_uri": "https://localhost:8080/"
        },
        "id": "rUjgoJ8vj1lR",
        "outputId": "56f1cbce-225f-4248-e6c1-f8d35e4dc9f6"
      },
      "execution_count": null,
      "outputs": [
        {
          "output_type": "stream",
          "name": "stdout",
          "text": [
            "torch.Size([8, 4, 256])\n"
          ]
        }
      ]
    },
    {
      "cell_type": "markdown",
      "source": [
        "Add positional embeddings"
      ],
      "metadata": {
        "id": "m_ITvhKwk1vS"
      }
    },
    {
      "cell_type": "code",
      "source": [
        "context_size"
      ],
      "metadata": {
        "colab": {
          "base_uri": "https://localhost:8080/"
        },
        "id": "3xKSzsPPlBpX",
        "outputId": "4d229f35-5bc1-44f1-c715-667745b0d4e1"
      },
      "execution_count": null,
      "outputs": [
        {
          "output_type": "execute_result",
          "data": {
            "text/plain": [
              "4"
            ]
          },
          "metadata": {},
          "execution_count": 62
        }
      ]
    },
    {
      "cell_type": "code",
      "source": [
        "positional_embedding_layer = nn.Embedding(context_size,output_dim)"
      ],
      "metadata": {
        "id": "5yWQekrDj1in"
      },
      "execution_count": null,
      "outputs": []
    },
    {
      "cell_type": "code",
      "source": [
        "posititonal_embeddings = positional_embedding_layer(torch.arange(context_size))\n",
        "posititonal_embeddings.shape"
      ],
      "metadata": {
        "colab": {
          "base_uri": "https://localhost:8080/"
        },
        "id": "ee0KmCgHlSTA",
        "outputId": "824329b0-7673-4983-8a1a-0da8ed5a6f82"
      },
      "execution_count": null,
      "outputs": [
        {
          "output_type": "execute_result",
          "data": {
            "text/plain": [
              "torch.Size([4, 256])"
            ]
          },
          "metadata": {},
          "execution_count": 64
        }
      ]
    },
    {
      "cell_type": "code",
      "source": [
        "input_embeddings = token_embeddings+posititonal_embeddings\n",
        "print(input_embeddings.shape)"
      ],
      "metadata": {
        "colab": {
          "base_uri": "https://localhost:8080/"
        },
        "id": "GOQdx7bKlfzz",
        "outputId": "0a162288-60f4-458a-e9ab-286dc31cee04"
      },
      "execution_count": null,
      "outputs": [
        {
          "output_type": "stream",
          "name": "stdout",
          "text": [
            "torch.Size([8, 4, 256])\n"
          ]
        }
      ]
    },
    {
      "cell_type": "code",
      "source": [
        "token_embeddings[2]"
      ],
      "metadata": {
        "colab": {
          "base_uri": "https://localhost:8080/"
        },
        "id": "5PKmIz2xlyWq",
        "outputId": "9c4f4189-e828-4947-db31-42b23df4c53d"
      },
      "execution_count": null,
      "outputs": [
        {
          "output_type": "execute_result",
          "data": {
            "text/plain": [
              "tensor([[ 0.8046,  0.5047,  1.2922,  ...,  1.4648,  0.4097,  0.3205],\n",
              "        [ 0.0795, -1.7636,  0.5750,  ...,  2.1823,  1.8231, -0.3635],\n",
              "        [ 0.4267, -0.0647,  0.5686,  ..., -0.5209,  1.3065,  0.8473],\n",
              "        [ 0.4256, -0.2887, -1.1954,  ..., -1.1536,  1.8305, -0.1415]],\n",
              "       grad_fn=<SelectBackward0>)"
            ]
          },
          "metadata": {},
          "execution_count": 71
        }
      ]
    },
    {
      "cell_type": "code",
      "source": [
        "input_embeddings[2]"
      ],
      "metadata": {
        "colab": {
          "base_uri": "https://localhost:8080/"
        },
        "id": "UEwzEOZll16V",
        "outputId": "52ab3764-57d3-4e68-ba7e-5502cbadee4a"
      },
      "execution_count": null,
      "outputs": [
        {
          "output_type": "execute_result",
          "data": {
            "text/plain": [
              "tensor([[ 2.5421, -0.0572,  0.6619,  ...,  1.2371,  1.9845,  1.3550],\n",
              "        [ 1.7217, -2.4837,  0.7812,  ...,  2.5940,  1.9729, -0.8263],\n",
              "        [-0.0384, -0.8404,  1.1492,  ...,  0.9125,  0.8102,  1.7052],\n",
              "        [-0.2498, -0.7516,  0.2369,  ..., -0.3397,  1.1217,  0.3412]],\n",
              "       grad_fn=<SelectBackward0>)"
            ]
          },
          "metadata": {},
          "execution_count": 72
        }
      ]
    },
    {
      "cell_type": "code",
      "source": [],
      "metadata": {
        "id": "aYYPwIuimeKx"
      },
      "execution_count": null,
      "outputs": []
    }
  ]
}