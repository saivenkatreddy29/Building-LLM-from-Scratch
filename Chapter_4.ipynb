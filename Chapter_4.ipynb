{
  "nbformat": 4,
  "nbformat_minor": 0,
  "metadata": {
    "colab": {
      "provenance": [],
      "authorship_tag": "ABX9TyPPpAKuyX6o8EuN7dWMFjGd",
      "include_colab_link": true
    },
    "kernelspec": {
      "name": "python3",
      "display_name": "Python 3"
    },
    "language_info": {
      "name": "python"
    }
  },
  "cells": [
    {
      "cell_type": "markdown",
      "metadata": {
        "id": "view-in-github",
        "colab_type": "text"
      },
      "source": [
        "<a href=\"https://colab.research.google.com/github/saivenkatreddy29/Building-LLM-from-Scratch/blob/main/Chapter_4.ipynb\" target=\"_parent\"><img src=\"https://colab.research.google.com/assets/colab-badge.svg\" alt=\"Open In Colab\"/></a>"
      ]
    },
    {
      "cell_type": "code",
      "source": [
        "!pip install tiktoken"
      ],
      "metadata": {
        "colab": {
          "base_uri": "https://localhost:8080/"
        },
        "id": "Ryuz1tOiWdYk",
        "outputId": "4b5028fa-f2a9-4865-dafc-bf601e18cca8"
      },
      "execution_count": 1,
      "outputs": [
        {
          "output_type": "stream",
          "name": "stdout",
          "text": [
            "Collecting tiktoken\n",
            "  Downloading tiktoken-0.8.0-cp311-cp311-manylinux_2_17_x86_64.manylinux2014_x86_64.whl.metadata (6.6 kB)\n",
            "Requirement already satisfied: regex>=2022.1.18 in /usr/local/lib/python3.11/dist-packages (from tiktoken) (2024.11.6)\n",
            "Requirement already satisfied: requests>=2.26.0 in /usr/local/lib/python3.11/dist-packages (from tiktoken) (2.32.3)\n",
            "Requirement already satisfied: charset-normalizer<4,>=2 in /usr/local/lib/python3.11/dist-packages (from requests>=2.26.0->tiktoken) (3.4.1)\n",
            "Requirement already satisfied: idna<4,>=2.5 in /usr/local/lib/python3.11/dist-packages (from requests>=2.26.0->tiktoken) (3.10)\n",
            "Requirement already satisfied: urllib3<3,>=1.21.1 in /usr/local/lib/python3.11/dist-packages (from requests>=2.26.0->tiktoken) (2.3.0)\n",
            "Requirement already satisfied: certifi>=2017.4.17 in /usr/local/lib/python3.11/dist-packages (from requests>=2.26.0->tiktoken) (2024.12.14)\n",
            "Downloading tiktoken-0.8.0-cp311-cp311-manylinux_2_17_x86_64.manylinux2014_x86_64.whl (1.2 MB)\n",
            "\u001b[2K   \u001b[90m━━━━━━━━━━━━━━━━━━━━━━━━━━━━━━━━━━━━━━━━\u001b[0m \u001b[32m1.2/1.2 MB\u001b[0m \u001b[31m18.2 MB/s\u001b[0m eta \u001b[36m0:00:00\u001b[0m\n",
            "\u001b[?25hInstalling collected packages: tiktoken\n",
            "Successfully installed tiktoken-0.8.0\n"
          ]
        }
      ]
    },
    {
      "cell_type": "code",
      "execution_count": 2,
      "metadata": {
        "colab": {
          "base_uri": "https://localhost:8080/"
        },
        "id": "EtL9GOhUWL4A",
        "outputId": "3c2a5473-eaa0-4cda-b001-1b10e8876647"
      },
      "outputs": [
        {
          "output_type": "stream",
          "name": "stdout",
          "text": [
            "matplotlib version: 3.10.0\n",
            "torch version: 2.5.1+cu121\n",
            "tiktoken version: 0.8.0\n"
          ]
        }
      ],
      "source": [
        "from importlib.metadata import version\n",
        "\n",
        "import matplotlib\n",
        "import tiktoken\n",
        "import torch\n",
        "\n",
        "print(\"matplotlib version:\", version(\"matplotlib\"))\n",
        "print(\"torch version:\", version(\"torch\"))\n",
        "print(\"tiktoken version:\", version(\"tiktoken\"))"
      ]
    },
    {
      "cell_type": "code",
      "source": [
        "GPT_CONFIG_124M = {\n",
        "    \"vocab_size\":50257,\n",
        "    \"context_length\":1024,\n",
        "    \"emb_dim\":768,\n",
        "    \"n_heads\":12,\n",
        "    \"n_layers\":12,\n",
        "    \"drop_out\":0.1,\n",
        "    \"qkv_bias\":False\n",
        "}"
      ],
      "metadata": {
        "id": "hH1fh_zIWW1H"
      },
      "execution_count": 3,
      "outputs": []
    },
    {
      "cell_type": "code",
      "source": [
        "import torch\n",
        "from torch import nn\n",
        "\n",
        "class DummyGPTModel(nn.Module):\n",
        "  def __init__(self,cfg):\n",
        "    super().__init__()\n",
        "    self.tok_emb = nn.Embedding(cfg['vocab_size'],cfg['emb_dim'])\n",
        "    self.pos_emb = nn.Embedding(cfg['context_length'],cfg['emb_dim'])\n",
        "    self.drop_emb = nn.Dropout(cfg['drop_out'])\n",
        "\n",
        "    #Place holder for transformer block\n",
        "    self.trf_block = nn.Sequential(\n",
        "        *[DummyTransformerBlock(cfg) for _ in range(cfg['n_layers'])]\n",
        "    )\n",
        "    self.final_norm = DummyLayerNorm(cfg['emb_dim'])\n",
        "    self.out_head = nn.Linear(cfg['emb_dim'],cfg['vocab_size'],bias = False)\n",
        "\n",
        "  def forward(self,in_idx):\n",
        "    batch_size,seq_len = in_idx.shape\n",
        "    token_embs = self.tok_emb(in_idx)\n",
        "    pos_embs =self.pos_emb(torch.arange(seq_len, device=in_idx.device))\n",
        "    x = token_embs + pos_embs\n",
        "    x = self.trf_block(x)\n",
        "    x = self.final_norm(x)\n",
        "    logits = self.out_head(x)\n",
        "    return logits\n",
        "\n",
        "class DummyTransformerBlock(nn.Module):\n",
        "  def __init__(self,cfg):\n",
        "    super().__init__()\n",
        "    # A simple place holder\n",
        "\n",
        "  def forward(self,x):\n",
        "    return x\n",
        "\n",
        "class DummyLayerNorm(nn.Module):\n",
        "  def __init__(self,normalized_shape,eps = 1e-5):\n",
        "    super().__init__()\n",
        "    # parameters that mimic layer norm\n",
        "\n",
        "  def forward(self,x):\n",
        "    return x\n",
        "\n",
        "\n"
      ],
      "metadata": {
        "id": "T3erAoH0W6gT"
      },
      "execution_count": 4,
      "outputs": []
    },
    {
      "cell_type": "code",
      "source": [
        "import tiktoken\n",
        "tokenizer = tiktoken.get_encoding('gpt2')\n",
        "batch = []\n",
        "\n",
        "txt1 = \"Every effort moves you\"\n",
        "txt2 = \"Every day holds a\"\n",
        "\n",
        "batch.append(torch.tensor(tokenizer.encode(txt1)))\n",
        "batch.append(torch.tensor(tokenizer.encode(txt2)))\n",
        "batch = torch.stack(batch,dim = 0)\n",
        "print(batch)"
      ],
      "metadata": {
        "colab": {
          "base_uri": "https://localhost:8080/"
        },
        "id": "RT030MJPd0Yq",
        "outputId": "26be09c3-8fc9-462c-c5ba-3cec4b8c0c00"
      },
      "execution_count": 5,
      "outputs": [
        {
          "output_type": "stream",
          "name": "stdout",
          "text": [
            "tensor([[6109, 3626, 6100,  345],\n",
            "        [6109, 1110, 6622,  257]])\n"
          ]
        }
      ]
    },
    {
      "cell_type": "code",
      "source": [
        "torch.manual_seed(123)\n",
        "model = DummyGPTModel(GPT_CONFIG_124M)\n",
        "\n",
        "logits = model(batch)\n",
        "print(f'ouput shape:{logits.shape}')\n",
        "print(logits)\n"
      ],
      "metadata": {
        "colab": {
          "base_uri": "https://localhost:8080/"
        },
        "id": "ugeFmdbXd0VF",
        "outputId": "3f55605e-7477-4725-c339-b4c34a92c03c"
      },
      "execution_count": 6,
      "outputs": [
        {
          "output_type": "stream",
          "name": "stdout",
          "text": [
            "ouput shape:torch.Size([2, 4, 50257])\n",
            "tensor([[[-1.1947,  0.1392, -0.8616,  ..., -1.4987, -0.0314, -0.4490],\n",
            "         [ 0.0497,  0.3861, -0.3281,  ..., -0.1826,  1.3084,  0.9867],\n",
            "         [ 0.7005,  1.4747, -0.4149,  ...,  1.7756, -0.2280,  0.5384],\n",
            "         [ 0.4885,  1.7545, -0.6707,  ...,  1.1501, -0.1143, -0.9368]],\n",
            "\n",
            "        [[-1.1947,  0.1392, -0.8616,  ..., -1.4987, -0.0314, -0.4490],\n",
            "         [-0.5591,  0.5797, -0.1296,  ...,  0.2691,  0.3151,  1.4046],\n",
            "         [ 0.8524,  1.2833, -0.1786,  ..., -0.1982,  0.1097,  0.2812],\n",
            "         [-0.0190, -0.8277,  0.2299,  ...,  1.7974, -0.1646, -0.1049]]],\n",
            "       grad_fn=<UnsafeViewBackward0>)\n"
          ]
        }
      ]
    },
    {
      "cell_type": "markdown",
      "source": [
        "Normalizing activations with layer normalization"
      ],
      "metadata": {
        "id": "imbuY7hIGPI8"
      }
    },
    {
      "cell_type": "code",
      "source": [
        "torch.manual_seed(123)\n",
        "random_tens = torch.randn(2,5)\n",
        "\n",
        "layer = nn.Sequential(nn.Linear(5,6),nn.ReLU())\n",
        "output = layer(random_tens)\n",
        "print(output)"
      ],
      "metadata": {
        "id": "HuDEh2aU5DPM",
        "colab": {
          "base_uri": "https://localhost:8080/"
        },
        "outputId": "b42b5186-7895-440c-b74e-2512142cf530"
      },
      "execution_count": 7,
      "outputs": [
        {
          "output_type": "stream",
          "name": "stdout",
          "text": [
            "tensor([[0.2260, 0.3470, 0.0000, 0.2216, 0.0000, 0.0000],\n",
            "        [0.2133, 0.2394, 0.0000, 0.5198, 0.3297, 0.0000]],\n",
            "       grad_fn=<ReluBackward0>)\n"
          ]
        }
      ]
    },
    {
      "cell_type": "code",
      "source": [
        "means = output.mean(dim = -1,keepdim = True)\n",
        "var = output.var(dim = -1,keepdim = True)\n",
        "print(means)\n",
        "print(var)\n",
        "norm_output = (output-means)/torch.sqrt(var)\n",
        "print(norm_output)"
      ],
      "metadata": {
        "colab": {
          "base_uri": "https://localhost:8080/"
        },
        "id": "HbCVNNSiHUTN",
        "outputId": "7f79bff7-7c9f-47bd-9a57-abdad23c8555"
      },
      "execution_count": 8,
      "outputs": [
        {
          "output_type": "stream",
          "name": "stdout",
          "text": [
            "tensor([[0.1324],\n",
            "        [0.2170]], grad_fn=<MeanBackward1>)\n",
            "tensor([[0.0231],\n",
            "        [0.0398]], grad_fn=<VarBackward0>)\n",
            "tensor([[ 0.6159,  1.4126, -0.8719,  0.5872, -0.8719, -0.8719],\n",
            "        [-0.0189,  0.1121, -1.0876,  1.5173,  0.5647, -1.0876]],\n",
            "       grad_fn=<DivBackward0>)\n"
          ]
        }
      ]
    },
    {
      "cell_type": "code",
      "source": [
        "mean_norm = norm_output.mean(dim = -1,keepdim = True )\n",
        "var_norm = norm_output.var(dim = -1,keepdim = True)\n",
        "torch.set_printoptions(sci_mode = False)\n",
        "print(mean_norm)\n",
        "print(var_norm)"
      ],
      "metadata": {
        "colab": {
          "base_uri": "https://localhost:8080/"
        },
        "id": "46wCjQCLHPqa",
        "outputId": "9888a419-4203-41c3-b2a8-eac0693327db"
      },
      "execution_count": 9,
      "outputs": [
        {
          "output_type": "stream",
          "name": "stdout",
          "text": [
            "tensor([[    0.0000],\n",
            "        [    0.0000]], grad_fn=<MeanBackward1>)\n",
            "tensor([[1.0000],\n",
            "        [1.0000]], grad_fn=<VarBackward0>)\n"
          ]
        }
      ]
    },
    {
      "cell_type": "code",
      "source": [
        "class LayerNorm(nn.Module):\n",
        "  def __init__(self, emb_dim):\n",
        "    super().__init__()\n",
        "    self.eps = 1e-5\n",
        "    self.scale = nn.Parameter(torch.ones(emb_dim))\n",
        "    self.shift = nn.Parameter(torch.zeros(emb_dim))\n",
        "\n",
        "  def forward(self,x):\n",
        "    mean = x.mean(dim =-1,keepdim = True)\n",
        "    var = x.var(dim = -1,keepdim = True,unbiased = False)\n",
        "    norm_x = (x-mean)/torch.sqrt(var+self.eps)\n",
        "    return self.scale * norm_x + self.shift"
      ],
      "metadata": {
        "id": "Bqq2WWbCd0SO"
      },
      "execution_count": 10,
      "outputs": []
    },
    {
      "cell_type": "code",
      "source": [
        "ln = LayerNorm(emb_dim = 5)\n",
        "normal_tens = ln(random_tens)\n",
        "print(normal_tens.mean(dim = -1,keepdim = True))\n",
        "print(normal_tens.var(dim = -1,keepdim = True,unbiased = False))"
      ],
      "metadata": {
        "id": "VUHqfy5nXGGY",
        "colab": {
          "base_uri": "https://localhost:8080/"
        },
        "outputId": "7e9d7dc8-7549-4c2f-c7e3-f97fdfce6ed8"
      },
      "execution_count": 11,
      "outputs": [
        {
          "output_type": "stream",
          "name": "stdout",
          "text": [
            "tensor([[    -0.0000],\n",
            "        [     0.0000]], grad_fn=<MeanBackward1>)\n",
            "tensor([[1.0000],\n",
            "        [1.0000]], grad_fn=<VarBackward0>)\n"
          ]
        }
      ]
    },
    {
      "cell_type": "markdown",
      "source": [
        "# GELU implementation"
      ],
      "metadata": {
        "id": "YIUa-lRbSSZu"
      }
    },
    {
      "cell_type": "code",
      "source": [
        "class GELU(nn.Module):\n",
        "  def __init__(self):\n",
        "    super().__init__()\n",
        "\n",
        "  def forward(self,x):\n",
        "    output = 0.5 * x * (1 + torch.tanh(torch.sqrt(torch.tensor(2.0/torch.pi))* (x + 0.044715*torch.pow(x,3))))\n",
        "    return output"
      ],
      "metadata": {
        "id": "YM8vTZNjSSL7"
      },
      "execution_count": 12,
      "outputs": []
    },
    {
      "cell_type": "code",
      "source": [
        "import matplotlib.pyplot as plt\n",
        "gelu,relu = GELU(),nn.ReLU()\n",
        "\n",
        "x = torch.linspace(-3,3,100)\n",
        "y_gelu,y_relu = gelu(x),relu(x)\n",
        "# print(y_gelu.shape)\n",
        "\n",
        "plt.figure(figsize = (8,3))\n",
        "for i,(y,label) in enumerate(zip([y_gelu,y_relu],[\"GELU\",\"RELU\"]),1):\n",
        "  plt.subplot(1,2,i)\n",
        "  plt.plot(x,y)\n",
        "  plt.title(f\"{label} activation function\")\n",
        "  plt.ylabel(f\"{label}(x)\")\n",
        "  plt.grid(True)\n",
        "\n",
        "plt.tight_layout()\n",
        "plt.show()"
      ],
      "metadata": {
        "id": "fkWJkRqc5D0m",
        "colab": {
          "base_uri": "https://localhost:8080/",
          "height": 307
        },
        "outputId": "7de96b51-b75f-4750-9309-4191302d075e"
      },
      "execution_count": 13,
      "outputs": [
        {
          "output_type": "display_data",
          "data": {
            "text/plain": [
              "<Figure size 800x300 with 2 Axes>"
            ],
            "image/png": "[encoded data removed]"
          },
          "metadata": {}
        }
      ]
    },
    {
      "cell_type": "markdown",
      "source": [
        "Implementing as class"
      ],
      "metadata": {
        "id": "uXAnbvkQaNOQ"
      }
    },
    {
      "cell_type": "code",
      "source": [
        "class FeedForward(nn.Module):\n",
        "  def __init__(self,cfg):\n",
        "    super().__init__()\n",
        "    self.layers = nn.Sequential(\n",
        "        nn.Linear(cfg['emb_dim'],4*cfg['emb_dim']),\n",
        "        GELU(),\n",
        "        nn.Linear(4 * cfg['emb_dim'],cfg['emb_dim']),\n",
        "    )\n",
        "\n",
        "  def forward(self,x):\n",
        "    return self.layers(x)"
      ],
      "metadata": {
        "id": "Iax-w_E7SL8G"
      },
      "execution_count": 14,
      "outputs": []
    },
    {
      "cell_type": "code",
      "source": [
        "print(GPT_CONFIG_124M[\"emb_dim\"])"
      ],
      "metadata": {
        "colab": {
          "base_uri": "https://localhost:8080/"
        },
        "id": "b_LV3gy_F6Hl",
        "outputId": "0a5a914e-7d65-473c-880b-4e7946afa0a7"
      },
      "execution_count": 15,
      "outputs": [
        {
          "output_type": "stream",
          "name": "stdout",
          "text": [
            "768\n"
          ]
        }
      ]
    },
    {
      "cell_type": "code",
      "source": [
        "ffn = FeedForward(GPT_CONFIG_124M)\n",
        "x = torch.rand(2,3,768)\n",
        "out = ffn(x)\n",
        "print(out.shape)"
      ],
      "metadata": {
        "colab": {
          "base_uri": "https://localhost:8080/"
        },
        "id": "UOJD1BwSdFm3",
        "outputId": "b943d853-5206-466e-a788-85e04aa65371"
      },
      "execution_count": 16,
      "outputs": [
        {
          "output_type": "stream",
          "name": "stdout",
          "text": [
            "torch.Size([2, 3, 768])\n"
          ]
        }
      ]
    },
    {
      "cell_type": "markdown",
      "source": [
        "# Adding Shortcut Connections"
      ],
      "metadata": {
        "id": "2XskTRwodb4r"
      }
    },
    {
      "cell_type": "code",
      "source": [
        "class ExampleDeepNeuralNetwork(nn.Module):\n",
        "  def __init__(self,layer_sizes,use_shortcut):\n",
        "    super().__init__()\n",
        "    self.use_shortcuts = use_shortcut\n",
        "    self.layers = nn.ModuleList([\n",
        "        nn.Sequential(nn.Linear(layer_sizes[0],layer_sizes[1]),GELU()),\n",
        "        nn.Sequential(nn.Linear(layer_sizes[1],layer_sizes[2]),GELU()),\n",
        "        nn.Sequential(nn.Linear(layer_sizes[2],layer_sizes[3]),GELU()),\n",
        "        nn.Sequential(nn.Linear(layer_sizes[3],layer_sizes[4]),GELU()),\n",
        "        nn.Sequential(nn.Linear(layer_sizes[4],layer_sizes[5]),GELU()),\n",
        "    ])\n",
        "\n",
        "  def forward(self,x):\n",
        "    for layer in self.layers:\n",
        "      layer_output = layer(x)\n",
        "    # layer_\n",
        "      if self.use_shortcuts and layer_output.shape == x.shape:\n",
        "        x = x + layer_output\n",
        "      else:\n",
        "        x = layer_output\n",
        "    return x\n",
        "\n",
        "def print_gradients(model,x):\n",
        "  output = model(x)\n",
        "  target = torch.tensor([[0.]])\n",
        "\n",
        "  criterion = nn.MSELoss()\n",
        "  loss = criterion(output,target)\n",
        "  loss.backward()\n",
        "\n",
        "  for name,param in model.named_parameters():\n",
        "    if 'weight' in name:\n",
        "      print(f'{name} has gradient mean of {param.grad.abs().mean().item()}')\n"
      ],
      "metadata": {
        "id": "QfAUgGdsdQE4"
      },
      "execution_count": 43,
      "outputs": []
    },
    {
      "cell_type": "code",
      "source": [
        "layer_sizes = [3,3,3,3,3,1]\n",
        "\n",
        "sample_input = torch.tensor([[1.,0.,-1.]])\n",
        "\n",
        "torch.manual_seed(123)\n",
        "model_without_shortcut = ExampleDeepNeuralNetwork(layer_sizes, use_shortcut = False)\n",
        "print_gradients(model_without_shortcut,sample_input)"
      ],
      "metadata": {
        "id": "eT78wT1OgUun",
        "colab": {
          "base_uri": "https://localhost:8080/"
        },
        "outputId": "432a3d66-6e82-411a-a1c3-2909c9e4738c"
      },
      "execution_count": 44,
      "outputs": [
        {
          "output_type": "stream",
          "name": "stdout",
          "text": [
            "layers.0.0.weight has gradient mean of 0.00020173584925942123\n",
            "layers.1.0.weight has gradient mean of 0.00012011159560643137\n",
            "layers.2.0.weight has gradient mean of 0.0007152040489017963\n",
            "layers.3.0.weight has gradient mean of 0.0013988736318424344\n",
            "layers.4.0.weight has gradient mean of 0.005049645435065031\n"
          ]
        }
      ]
    },
    {
      "cell_type": "code",
      "source": [
        "torch.manual_seed(123)\n",
        "model_with_shortcut = ExampleDeepNeuralNetwork(layer_sizes, use_shortcut = True)\n",
        "\n",
        "print_gradients(model_with_shortcut,sample_input)"
      ],
      "metadata": {
        "colab": {
          "base_uri": "https://localhost:8080/"
        },
        "id": "jSzIfugj5D9y",
        "outputId": "5442bee5-93d9-4fed-a69d-13da0475d85b"
      },
      "execution_count": 45,
      "outputs": [
        {
          "output_type": "stream",
          "name": "stdout",
          "text": [
            "layers.0.0.weight has gradient mean of 0.22169791162014008\n",
            "layers.1.0.weight has gradient mean of 0.20694105327129364\n",
            "layers.2.0.weight has gradient mean of 0.32896995544433594\n",
            "layers.3.0.weight has gradient mean of 0.2665732204914093\n",
            "layers.4.0.weight has gradient mean of 1.3258540630340576\n"
          ]
        }
      ]
    },
    {
      "cell_type": "code",
      "source": [],
      "metadata": {
        "id": "wKjjfN8M5D6L"
      },
      "execution_count": null,
      "outputs": []
    },
    {
      "cell_type": "code",
      "source": [],
      "metadata": {
        "id": "s8crHDMZ5D28"
      },
      "execution_count": null,
      "outputs": []
    }
  ]
}