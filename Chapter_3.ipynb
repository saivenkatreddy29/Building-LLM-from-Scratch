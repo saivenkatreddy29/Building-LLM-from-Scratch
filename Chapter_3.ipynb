{
  "nbformat": 4,
  "nbformat_minor": 0,
  "metadata": {
    "colab": {
      "provenance": [],
      "authorship_tag": "ABX9TyNu8pI052pmu9CGVCEmB9dg",
      "include_colab_link": true
    },
    "kernelspec": {
      "name": "python3",
      "display_name": "Python 3"
    },
    "language_info": {
      "name": "python"
    }
  },
  "cells": [
    {
      "cell_type": "markdown",
      "metadata": {
        "id": "view-in-github",
        "colab_type": "text"
      },
      "source": [
        "<a href=\"https://colab.research.google.com/github/saivenkatreddy29/Building-LLM-from-Scratch/blob/main/Chapter_3.ipynb\" target=\"_parent\"><img src=\"https://colab.research.google.com/assets/colab-badge.svg\" alt=\"Open In Colab\"/></a>"
      ]
    },
    {
      "cell_type": "code",
      "source": [],
      "metadata": {
        "id": "xPHnLv6xsR3W"
      },
      "execution_count": null,
      "outputs": []
    },
    {
      "cell_type": "code",
      "execution_count": null,
      "metadata": {
        "colab": {
          "base_uri": "https://localhost:8080/"
        },
        "id": "KpPBrRBlWmri",
        "outputId": "b3976ae9-52c2-4a66-ca93-42ae77ecaefc"
      },
      "outputs": [
        {
          "output_type": "stream",
          "name": "stdout",
          "text": [
            "torch version 2.5.1+cu121\n"
          ]
        }
      ],
      "source": [
        "from importlib.metadata import version\n",
        "print(\"torch version\", version(\"torch\"))"
      ]
    },
    {
      "cell_type": "code",
      "source": [
        "import torch\n",
        "\n",
        "inputs = torch.tensor(\n",
        "  [[0.43, 0.15, 0.89], # Your     (x^1)\n",
        "   [0.55, 0.87, 0.66], # journey  (x^2)\n",
        "   [0.57, 0.85, 0.64], # starts   (x^3)\n",
        "   [0.22, 0.58, 0.33], # with     (x^4)\n",
        "   [0.77, 0.25, 0.10], # one      (x^5)\n",
        "   [0.05, 0.80, 0.55]] # step     (x^6)\n",
        ")"
      ],
      "metadata": {
        "id": "AhmviQKEW7aa"
      },
      "execution_count": null,
      "outputs": []
    },
    {
      "cell_type": "markdown",
      "source": [
        "Mathemetical dot product"
      ],
      "metadata": {
        "id": "TdxyFodHZKda"
      }
    },
    {
      "cell_type": "code",
      "source": [
        "result = torch.zeros(len(inputs))\n",
        "n = len(inputs)\n",
        "query = inputs[1]\n",
        "for i in range(n):\n",
        "  result[i] = (sum(query*inputs[i]))\n",
        "print(result)\n"
      ],
      "metadata": {
        "colab": {
          "base_uri": "https://localhost:8080/"
        },
        "id": "d2Tq5X09ZKQ-",
        "outputId": "7eebabee-6c84-497c-fefd-3f57bfd3641c"
      },
      "execution_count": null,
      "outputs": [
        {
          "output_type": "stream",
          "name": "stdout",
          "text": [
            "tensor([0.9544, 1.4950, 1.4754, 0.8434, 0.7070, 1.0865])\n"
          ]
        }
      ]
    },
    {
      "cell_type": "markdown",
      "source": [
        "Using torch"
      ],
      "metadata": {
        "id": "lgvYI9uIZNfM"
      }
    },
    {
      "cell_type": "code",
      "source": [
        "import numpy as np\n",
        "query = inputs[1]\n",
        "attention_scores = torch.zeros(len(inputs))\n",
        "n = len(inputs)\n",
        "for i in range(n):\n",
        "  attention_scores[i] = torch.dot(query,inputs[i])\n",
        "attention_scores"
      ],
      "metadata": {
        "colab": {
          "base_uri": "https://localhost:8080/"
        },
        "id": "0vE-fEOAXQDT",
        "outputId": "030ef2f5-0959-4c01-8d03-069a44e4a0f7"
      },
      "execution_count": null,
      "outputs": [
        {
          "output_type": "execute_result",
          "data": {
            "text/plain": [
              "tensor([0.9544, 1.4950, 1.4754, 0.8434, 0.7070, 1.0865])"
            ]
          },
          "metadata": {},
          "execution_count": 52
        }
      ]
    },
    {
      "cell_type": "code",
      "source": [
        "attention_scores.shape,inputs.shape"
      ],
      "metadata": {
        "colab": {
          "base_uri": "https://localhost:8080/"
        },
        "id": "67l3YcAaXQy6",
        "outputId": "787fc371-24b1-459c-dce5-8b6d90e4985c"
      },
      "execution_count": null,
      "outputs": [
        {
          "output_type": "execute_result",
          "data": {
            "text/plain": [
              "(torch.Size([6]), torch.Size([6, 3]))"
            ]
          },
          "metadata": {},
          "execution_count": 53
        }
      ]
    },
    {
      "cell_type": "markdown",
      "source": [
        "Using mathematical method for normalizing"
      ],
      "metadata": {
        "id": "CXvFkyBvY8CG"
      }
    },
    {
      "cell_type": "code",
      "source": [
        "math_norm = attention_scores/sum(attention_scores)\n",
        "math_norm"
      ],
      "metadata": {
        "colab": {
          "base_uri": "https://localhost:8080/"
        },
        "id": "NzP1YGxgY7xM",
        "outputId": "5ead0769-d731-42b1-9d1f-9b85d152091f"
      },
      "execution_count": null,
      "outputs": [
        {
          "output_type": "execute_result",
          "data": {
            "text/plain": [
              "tensor([0.1455, 0.2278, 0.2249, 0.1285, 0.1077, 0.1656])"
            ]
          },
          "metadata": {},
          "execution_count": 54
        }
      ]
    },
    {
      "cell_type": "markdown",
      "source": [
        "Using softmax written in python"
      ],
      "metadata": {
        "id": "sNdT7Znh5Ese"
      }
    },
    {
      "cell_type": "code",
      "source": [
        "import math\n",
        "def naive_softmax(x):\n",
        "  denom = 0\n",
        "  for i in x:\n",
        "    denom += math.exp(i)\n",
        "  print(denom)\n",
        "  # denom = sum(math.exp(x))\n",
        "  return torch.exp(x)/denom\n",
        "python_norm = naive_softmax(attention_scores)\n",
        "print(python_norm)\n"
      ],
      "metadata": {
        "colab": {
          "base_uri": "https://localhost:8080/"
        },
        "id": "vFdGGsZx5IER",
        "outputId": "76493fb7-f0c6-49ad-ee57-2329fc15f86d"
      },
      "execution_count": null,
      "outputs": [
        {
          "output_type": "stream",
          "name": "stdout",
          "text": [
            "18.745270996882674\n",
            "tensor([0.1385, 0.2379, 0.2333, 0.1240, 0.1082, 0.1581])\n"
          ]
        }
      ]
    },
    {
      "cell_type": "markdown",
      "source": [
        "Using torch softmax"
      ],
      "metadata": {
        "id": "Wb8Vo2OK5InR"
      }
    },
    {
      "cell_type": "code",
      "source": [
        "normalized_scores = torch.softmax(attention_scores, dim = -1)\n",
        "normalized_scores"
      ],
      "metadata": {
        "colab": {
          "base_uri": "https://localhost:8080/"
        },
        "id": "Kq9ZeLj3XQvc",
        "outputId": "dea6f409-ec93-4338-cdb1-fa684259d276"
      },
      "execution_count": null,
      "outputs": [
        {
          "output_type": "execute_result",
          "data": {
            "text/plain": [
              "tensor([0.1385, 0.2379, 0.2333, 0.1240, 0.1082, 0.1581])"
            ]
          },
          "metadata": {},
          "execution_count": 56
        }
      ]
    },
    {
      "cell_type": "markdown",
      "source": [
        "Context vector for 2nd input we used as example"
      ],
      "metadata": {
        "id": "jXDPjFOz6002"
      }
    },
    {
      "cell_type": "code",
      "source": [
        "query = inputs[1]\n",
        "context_vec_2 = torch.zeros(query.shape)\n",
        "print(context_vec_2)\n",
        "for i in range(n):\n",
        "  # print(f'i:{inputs[i]}')\n",
        "  context_vec_2 += normalized_scores[i] * inputs[i]\n",
        "print(context_vec_2)"
      ],
      "metadata": {
        "colab": {
          "base_uri": "https://localhost:8080/"
        },
        "id": "QF8cym9DXQsi",
        "outputId": "ab560872-e75e-4817-f08d-86d36a056a59"
      },
      "execution_count": null,
      "outputs": [
        {
          "output_type": "stream",
          "name": "stdout",
          "text": [
            "tensor([0., 0., 0.])\n",
            "tensor([0.4419, 0.6515, 0.5683])\n"
          ]
        }
      ]
    },
    {
      "cell_type": "code",
      "source": [],
      "metadata": {
        "id": "dliCHUaq969p"
      },
      "execution_count": null,
      "outputs": []
    },
    {
      "cell_type": "code",
      "source": [
        "attn_score = inputs@inputs.T\n",
        "print(attn_score)"
      ],
      "metadata": {
        "id": "Ibf3sZITXQmM",
        "colab": {
          "base_uri": "https://localhost:8080/"
        },
        "outputId": "04152743-359a-4c89-f682-cf9b7a1b6259"
      },
      "execution_count": null,
      "outputs": [
        {
          "output_type": "stream",
          "name": "stdout",
          "text": [
            "tensor([[0.9995, 0.9544, 0.9422, 0.4753, 0.4576, 0.6310],\n",
            "        [0.9544, 1.4950, 1.4754, 0.8434, 0.7070, 1.0865],\n",
            "        [0.9422, 1.4754, 1.4570, 0.8296, 0.7154, 1.0605],\n",
            "        [0.4753, 0.8434, 0.8296, 0.4937, 0.3474, 0.6565],\n",
            "        [0.4576, 0.7070, 0.7154, 0.3474, 0.6654, 0.2935],\n",
            "        [0.6310, 1.0865, 1.0605, 0.6565, 0.2935, 0.9450]])\n"
          ]
        }
      ]
    },
    {
      "cell_type": "code",
      "source": [
        "attn_weights = torch.softmax(attn_score, dim = -1)\n",
        "print(attn_weights)"
      ],
      "metadata": {
        "id": "7HlEES6C_581",
        "colab": {
          "base_uri": "https://localhost:8080/"
        },
        "outputId": "273eb972-8a01-44f2-d5f9-60e5c833cb8d"
      },
      "execution_count": null,
      "outputs": [
        {
          "output_type": "stream",
          "name": "stdout",
          "text": [
            "tensor([[0.2098, 0.2006, 0.1981, 0.1242, 0.1220, 0.1452],\n",
            "        [0.1385, 0.2379, 0.2333, 0.1240, 0.1082, 0.1581],\n",
            "        [0.1390, 0.2369, 0.2326, 0.1242, 0.1108, 0.1565],\n",
            "        [0.1435, 0.2074, 0.2046, 0.1462, 0.1263, 0.1720],\n",
            "        [0.1526, 0.1958, 0.1975, 0.1367, 0.1879, 0.1295],\n",
            "        [0.1385, 0.2184, 0.2128, 0.1420, 0.0988, 0.1896]])\n"
          ]
        }
      ]
    },
    {
      "cell_type": "code",
      "source": [
        "print(attn_weights.sum(dim = -1))"
      ],
      "metadata": {
        "id": "9IX63Tk3_55U",
        "colab": {
          "base_uri": "https://localhost:8080/"
        },
        "outputId": "bd43364d-47eb-4bd1-9174-8dd28ce2ae2b"
      },
      "execution_count": null,
      "outputs": [
        {
          "output_type": "stream",
          "name": "stdout",
          "text": [
            "tensor([1.0000, 1.0000, 1.0000, 1.0000, 1.0000, 1.0000])\n"
          ]
        }
      ]
    },
    {
      "cell_type": "code",
      "source": [
        "context_vector = attn_weights @ inputs\n",
        "print(context_vector)"
      ],
      "metadata": {
        "id": "vvUXGBgm_52o",
        "colab": {
          "base_uri": "https://localhost:8080/"
        },
        "outputId": "9bc5a3f9-c372-4526-8e0a-9946e7bd8dce"
      },
      "execution_count": null,
      "outputs": [
        {
          "output_type": "stream",
          "name": "stdout",
          "text": [
            "tensor([[0.4421, 0.5931, 0.5790],\n",
            "        [0.4419, 0.6515, 0.5683],\n",
            "        [0.4431, 0.6496, 0.5671],\n",
            "        [0.4304, 0.6298, 0.5510],\n",
            "        [0.4671, 0.5910, 0.5266],\n",
            "        [0.4177, 0.6503, 0.5645]])\n"
          ]
        }
      ]
    },
    {
      "cell_type": "markdown",
      "source": [
        "# Implementing Self attention with trainable weights"
      ],
      "metadata": {
        "id": "gt5-huO2TPL_"
      }
    },
    {
      "cell_type": "code",
      "source": [
        "x2 = inputs[1]\n",
        "d_in = inputs.shape[1]\n",
        "d_out = 2"
      ],
      "metadata": {
        "id": "m3z5r2KG_5z7"
      },
      "execution_count": null,
      "outputs": []
    },
    {
      "cell_type": "code",
      "source": [
        "torch.manual_seed(123)\n",
        "\n",
        "W_query = torch.nn.Parameter(torch.rand(d_in,d_out),requires_grad = False)\n",
        "W_key = torch.nn.Parameter(torch.rand(d_in,d_out),requires_grad = False)\n",
        "W_value = torch.nn.Parameter(torch.rand(d_in,d_out),requires_grad = False)\n",
        "\n"
      ],
      "metadata": {
        "id": "VY6ABIpnTjDe"
      },
      "execution_count": null,
      "outputs": []
    },
    {
      "cell_type": "code",
      "source": [
        "query2 = x2@ W_query\n",
        "key_2 = x2@ W_key\n",
        "value2 = x2@ W_value\n",
        "\n",
        "print(query2)"
      ],
      "metadata": {
        "colab": {
          "base_uri": "https://localhost:8080/"
        },
        "id": "25-eokHsVQvv",
        "outputId": "e0c0b911-13be-4fcf-a5b3-71c8f30c463b"
      },
      "execution_count": null,
      "outputs": [
        {
          "output_type": "stream",
          "name": "stdout",
          "text": [
            "tensor([0.4306, 1.4551])\n"
          ]
        }
      ]
    },
    {
      "cell_type": "code",
      "source": [
        "keys = inputs@W_key\n",
        "values = inputs@W_value\n",
        "print(f'key shape:{keys.shape}')\n",
        "print(f'value shape:{values.shape}')"
      ],
      "metadata": {
        "colab": {
          "base_uri": "https://localhost:8080/"
        },
        "id": "sqTILSWhVo4y",
        "outputId": "57279333-f9e5-4883-ca55-d256377ddd23"
      },
      "execution_count": null,
      "outputs": [
        {
          "output_type": "stream",
          "name": "stdout",
          "text": [
            "key shape:torch.Size([6, 2])\n",
            "value shape:torch.Size([6, 2])\n"
          ]
        }
      ]
    },
    {
      "cell_type": "code",
      "source": [
        "keys_2 = keys[1]\n",
        "attention_score22 = query2.dot(keys_2)\n",
        "print(attention_score22) # score for 2nd to itself"
      ],
      "metadata": {
        "colab": {
          "base_uri": "https://localhost:8080/"
        },
        "id": "Hq-psy9wV5CU",
        "outputId": "347fb5e6-a61a-490a-a5f4-1e482af64d21"
      },
      "execution_count": null,
      "outputs": [
        {
          "output_type": "stream",
          "name": "stdout",
          "text": [
            "tensor(1.8524)\n"
          ]
        }
      ]
    },
    {
      "cell_type": "code",
      "source": [
        "attention_scores_2 = query2 @keys.T\n",
        "print(attention_scores_2)"
      ],
      "metadata": {
        "colab": {
          "base_uri": "https://localhost:8080/"
        },
        "id": "67Sw_0h3V4_J",
        "outputId": "a98b73f1-c33d-4a45-be1d-25bd9509507e"
      },
      "execution_count": null,
      "outputs": [
        {
          "output_type": "stream",
          "name": "stdout",
          "text": [
            "tensor([1.2705, 1.8524, 1.8111, 1.0795, 0.5577, 1.5440])\n"
          ]
        }
      ]
    },
    {
      "cell_type": "code",
      "source": [
        "d_k = keys.shape[1]\n",
        "attention_weights = torch.softmax((attention_scores_2/d_k**0.5),dim = -1)\n",
        "print(attention_weights)"
      ],
      "metadata": {
        "colab": {
          "base_uri": "https://localhost:8080/"
        },
        "id": "qKguI2J2V48d",
        "outputId": "7561f2cd-2dd0-4ed3-8fa4-d3a820614175"
      },
      "execution_count": null,
      "outputs": [
        {
          "output_type": "stream",
          "name": "stdout",
          "text": [
            "tensor([0.1500, 0.2264, 0.2199, 0.1311, 0.0906, 0.1820])\n"
          ]
        }
      ]
    },
    {
      "cell_type": "code",
      "source": [
        "context_vec = attention_weights @ values\n",
        "print(context_vec)"
      ],
      "metadata": {
        "colab": {
          "base_uri": "https://localhost:8080/"
        },
        "id": "Mm552hm-XaeZ",
        "outputId": "2a75ce0a-655f-4af5-fd2f-b8c3575cc495"
      },
      "execution_count": null,
      "outputs": [
        {
          "output_type": "stream",
          "name": "stdout",
          "text": [
            "tensor([0.3061, 0.8210])\n"
          ]
        }
      ]
    },
    {
      "cell_type": "markdown",
      "source": [
        "# Implementing this in compact Self attention Class"
      ],
      "metadata": {
        "id": "Y_kX-tAeYKuo"
      }
    },
    {
      "cell_type": "code",
      "source": [
        "from torch import nn\n",
        "\n",
        "class SelfAttention_v1(nn.Module):\n",
        "  def __init__(self,d_in,d_out):\n",
        "    super().__init__()\n",
        "    self.W_query = nn.Parameter(torch.rand(d_in,d_out),requires_grad = True)\n",
        "    self.W_key = nn.Parameter(torch.rand(d_in,d_out),requires_grad = True)\n",
        "    self.W_value = nn.Parameter(torch.rand(d_in,d_out),requires_grad = True)\n",
        "\n",
        "  def forward(self,x):\n",
        "    self.query = x@ self.W_query\n",
        "    self.key = x @ self.W_key\n",
        "    self.value = x@self.W_value\n",
        "    self.attscores = self.query @ self.key.T\n",
        "    self.d = x.shape[-1]\n",
        "    self.attweights = torch.softmax((self.attscores/self.d**0.5),dim= -1)\n",
        "    self.output = self.attweights @ self.value\n",
        "    return self.output\n"
      ],
      "metadata": {
        "id": "t_K28pUmYBCF"
      },
      "execution_count": null,
      "outputs": []
    },
    {
      "cell_type": "code",
      "source": [
        "torch.manual_seed(123)\n",
        "selfatt = SelfAttention_v1(d_in = 3,d_out = 2)\n",
        "selfatt(inputs)"
      ],
      "metadata": {
        "colab": {
          "base_uri": "https://localhost:8080/"
        },
        "id": "rZE3KCH1ZK2W",
        "outputId": "dfb360bd-c86c-4b6c-8676-a327efe542ac"
      },
      "execution_count": null,
      "outputs": [
        {
          "output_type": "execute_result",
          "data": {
            "text/plain": [
              "tensor([[0.2961, 0.7970],\n",
              "        [0.3016, 0.8104],\n",
              "        [0.3013, 0.8098],\n",
              "        [0.2921, 0.7873],\n",
              "        [0.2904, 0.7833],\n",
              "        [0.2956, 0.7959]], grad_fn=<MmBackward0>)"
            ]
          },
          "metadata": {},
          "execution_count": 71
        }
      ]
    },
    {
      "cell_type": "code",
      "source": [
        "class SelfAttention_v2(nn.Module):\n",
        "  def __init__(self,\n",
        "               d_in,d_out,qkv_bias = False):\n",
        "    super().__init__()\n",
        "    self.W_query = nn.Linear(d_in,d_out,bias = qkv_bias)\n",
        "    self.W_keys = nn.Linear(d_in,d_out,bias = qkv_bias)\n",
        "    self.W_values = nn.Linear(d_in,d_out,bias = qkv_bias)\n",
        "\n",
        "  def forward(self,x):\n",
        "    queris = self.W_query(x)\n",
        "    keys = self.W_keys(x)\n",
        "    values = self.W_values(x)\n",
        "    dim = x.shape[1]\n",
        "    attn_scores = queris@keys.T\n",
        "    attn_weights = torch.softmax((attn_scores/dim**0.5),dim = -1)\n",
        "    output = attn_weights@values\n",
        "    return output\n"
      ],
      "metadata": {
        "id": "CisSD4hdZQ5J"
      },
      "execution_count": null,
      "outputs": []
    },
    {
      "cell_type": "code",
      "source": [
        "torch.manual_seed(789)\n",
        "sa_v2 = SelfAttention_v2(d_in = 3,d_out = 2)\n",
        "print(sa_v2(inputs))"
      ],
      "metadata": {
        "colab": {
          "base_uri": "https://localhost:8080/"
        },
        "id": "XT2dC3O3cKkR",
        "outputId": "8e781f76-87d7-4174-c3a2-79a98e1cea73"
      },
      "execution_count": null,
      "outputs": [
        {
          "output_type": "stream",
          "name": "stdout",
          "text": [
            "tensor([[-0.0745,  0.0704],\n",
            "        [-0.0752,  0.0697],\n",
            "        [-0.0752,  0.0696],\n",
            "        [-0.0762,  0.0681],\n",
            "        [-0.0765,  0.0677],\n",
            "        [-0.0757,  0.0688]], grad_fn=<MmBackward0>)\n"
          ]
        }
      ]
    },
    {
      "cell_type": "markdown",
      "source": [
        "# Hiding Future words with Causal attention"
      ],
      "metadata": {
        "id": "miHRUsLVjfSl"
      }
    },
    {
      "cell_type": "code",
      "source": [
        "keys = sa_v2.W_keys(inputs)\n",
        "queries = sa_v2.W_query(inputs)\n",
        "# print(keys)\n",
        "d = keys.shape[1]\n",
        "attn_scores = queries @ keys.T\n",
        "attn_weights = torch.softmax((attn_scores/d**0.5),dim = -1)\n",
        "print(attn_weights)"
      ],
      "metadata": {
        "colab": {
          "base_uri": "https://localhost:8080/"
        },
        "id": "v7fzXwo7cua-",
        "outputId": "a652ed73-0e35-4b8f-d321-64e7c3eed1b3"
      },
      "execution_count": null,
      "outputs": [
        {
          "output_type": "stream",
          "name": "stdout",
          "text": [
            "tensor([[0.1921, 0.1646, 0.1652, 0.1550, 0.1721, 0.1510],\n",
            "        [0.2041, 0.1659, 0.1662, 0.1496, 0.1665, 0.1477],\n",
            "        [0.2036, 0.1659, 0.1662, 0.1498, 0.1664, 0.1480],\n",
            "        [0.1869, 0.1667, 0.1668, 0.1571, 0.1661, 0.1564],\n",
            "        [0.1830, 0.1669, 0.1670, 0.1588, 0.1658, 0.1585],\n",
            "        [0.1935, 0.1663, 0.1666, 0.1542, 0.1666, 0.1529]],\n",
            "       grad_fn=<SoftmaxBackward0>)\n"
          ]
        }
      ]
    },
    {
      "cell_type": "code",
      "source": [
        "context_length = attn_score.shape[0]\n",
        "mask_simple = torch.tril(torch.ones(context_length,context_length))\n",
        "mask_simple"
      ],
      "metadata": {
        "colab": {
          "base_uri": "https://localhost:8080/"
        },
        "id": "lqe7-WTJcuXa",
        "outputId": "ec0f2bf1-ca3a-467a-fc52-c9e16b5e7bac"
      },
      "execution_count": null,
      "outputs": [
        {
          "output_type": "execute_result",
          "data": {
            "text/plain": [
              "tensor([[1., 0., 0., 0., 0., 0.],\n",
              "        [1., 1., 0., 0., 0., 0.],\n",
              "        [1., 1., 1., 0., 0., 0.],\n",
              "        [1., 1., 1., 1., 0., 0.],\n",
              "        [1., 1., 1., 1., 1., 0.],\n",
              "        [1., 1., 1., 1., 1., 1.]])"
            ]
          },
          "metadata": {},
          "execution_count": 75
        }
      ]
    },
    {
      "cell_type": "code",
      "source": [
        "masked_sample = attn_weights * mask_simple\n",
        "masked_sample"
      ],
      "metadata": {
        "colab": {
          "base_uri": "https://localhost:8080/"
        },
        "id": "1bD7m1Q0cuUf",
        "outputId": "c8eb0fd6-33b0-4dcf-dd46-608f1e6d6186"
      },
      "execution_count": null,
      "outputs": [
        {
          "output_type": "execute_result",
          "data": {
            "text/plain": [
              "tensor([[0.1921, 0.0000, 0.0000, 0.0000, 0.0000, 0.0000],\n",
              "        [0.2041, 0.1659, 0.0000, 0.0000, 0.0000, 0.0000],\n",
              "        [0.2036, 0.1659, 0.1662, 0.0000, 0.0000, 0.0000],\n",
              "        [0.1869, 0.1667, 0.1668, 0.1571, 0.0000, 0.0000],\n",
              "        [0.1830, 0.1669, 0.1670, 0.1588, 0.1658, 0.0000],\n",
              "        [0.1935, 0.1663, 0.1666, 0.1542, 0.1666, 0.1529]],\n",
              "       grad_fn=<MulBackward0>)"
            ]
          },
          "metadata": {},
          "execution_count": 76
        }
      ]
    },
    {
      "cell_type": "code",
      "source": [
        "masked_sample_norm = masked_sample/masked_sample.sum(dim = -1)\n",
        "masked_sample_norm"
      ],
      "metadata": {
        "colab": {
          "base_uri": "https://localhost:8080/"
        },
        "id": "gBFYULehcuRf",
        "outputId": "58de4a9c-bef0-4cba-f2d8-652dff8b5422"
      },
      "execution_count": null,
      "outputs": [
        {
          "output_type": "execute_result",
          "data": {
            "text/plain": [
              "tensor([[1.0000, 0.0000, 0.0000, 0.0000, 0.0000, 0.0000],\n",
              "        [1.0625, 0.4483, 0.0000, 0.0000, 0.0000, 0.0000],\n",
              "        [1.0595, 0.4484, 0.3103, 0.0000, 0.0000, 0.0000],\n",
              "        [0.9727, 0.4505, 0.3114, 0.2319, 0.0000, 0.0000],\n",
              "        [0.9527, 0.4510, 0.3116, 0.2344, 0.1971, 0.0000],\n",
              "        [1.0070, 0.4495, 0.3109, 0.2276, 0.1979, 0.1529]],\n",
              "       grad_fn=<DivBackward0>)"
            ]
          },
          "metadata": {},
          "execution_count": 77
        }
      ]
    },
    {
      "cell_type": "markdown",
      "source": [
        "We can do it directly if we add the -inf to the tril"
      ],
      "metadata": {
        "id": "PgRBdRMilxZK"
      }
    },
    {
      "cell_type": "code",
      "source": [
        "mask = torch.triu(torch.ones(context_length,context_length),diagonal = 1)\n",
        "masked = attn_scores.masked_fill(mask.bool(),-torch.inf)\n",
        "print(masked)"
      ],
      "metadata": {
        "colab": {
          "base_uri": "https://localhost:8080/"
        },
        "id": "HFDKj51QcV9p",
        "outputId": "4f713443-5753-4956-f0dc-f2b4869c24e1"
      },
      "execution_count": null,
      "outputs": [
        {
          "output_type": "stream",
          "name": "stdout",
          "text": [
            "tensor([[0.2899,   -inf,   -inf,   -inf,   -inf,   -inf],\n",
            "        [0.4656, 0.1723,   -inf,   -inf,   -inf,   -inf],\n",
            "        [0.4594, 0.1703, 0.1731,   -inf,   -inf,   -inf],\n",
            "        [0.2642, 0.1024, 0.1036, 0.0186,   -inf,   -inf],\n",
            "        [0.2183, 0.0874, 0.0882, 0.0177, 0.0786,   -inf],\n",
            "        [0.3408, 0.1270, 0.1290, 0.0198, 0.1290, 0.0078]],\n",
            "       grad_fn=<MaskedFillBackward0>)\n"
          ]
        }
      ]
    },
    {
      "cell_type": "code",
      "source": [
        "masked_normal_scores = torch.softmax((masked/d**0.5),dim = -1)\n",
        "masked_normal_scores"
      ],
      "metadata": {
        "colab": {
          "base_uri": "https://localhost:8080/"
        },
        "id": "JfhK4jE-mBjt",
        "outputId": "a3db2cb3-c4cb-4b15-b15c-ffcabfa796b5"
      },
      "execution_count": null,
      "outputs": [
        {
          "output_type": "execute_result",
          "data": {
            "text/plain": [
              "tensor([[1.0000, 0.0000, 0.0000, 0.0000, 0.0000, 0.0000],\n",
              "        [0.5517, 0.4483, 0.0000, 0.0000, 0.0000, 0.0000],\n",
              "        [0.3800, 0.3097, 0.3103, 0.0000, 0.0000, 0.0000],\n",
              "        [0.2758, 0.2460, 0.2462, 0.2319, 0.0000, 0.0000],\n",
              "        [0.2175, 0.1983, 0.1984, 0.1888, 0.1971, 0.0000],\n",
              "        [0.1935, 0.1663, 0.1666, 0.1542, 0.1666, 0.1529]],\n",
              "       grad_fn=<SoftmaxBackward0>)"
            ]
          },
          "metadata": {},
          "execution_count": 79
        }
      ]
    },
    {
      "cell_type": "markdown",
      "source": [
        "# Masking additonal attention weights with dropout"
      ],
      "metadata": {
        "id": "Knpx0G6ewRHc"
      }
    },
    {
      "cell_type": "code",
      "source": [
        "# Test how dropout works\n",
        "context_length = inputs.shape[0]\n",
        "example = torch.ones(context_length,context_length)\n",
        "drop = torch.nn.Dropout(p =0.5)\n",
        "droped = drop(example)\n",
        "print(droped)"
      ],
      "metadata": {
        "colab": {
          "base_uri": "https://localhost:8080/"
        },
        "id": "q-0egV1RGnqe",
        "outputId": "1d738e60-a2d0-4c1f-9731-b156c0b38cbf"
      },
      "execution_count": null,
      "outputs": [
        {
          "output_type": "stream",
          "name": "stdout",
          "text": [
            "tensor([[2., 0., 2., 2., 2., 2.],\n",
            "        [2., 0., 2., 2., 0., 2.],\n",
            "        [0., 2., 2., 0., 2., 0.],\n",
            "        [2., 2., 2., 0., 0., 0.],\n",
            "        [0., 0., 2., 2., 0., 2.],\n",
            "        [0., 2., 2., 2., 0., 2.]])\n"
          ]
        }
      ]
    },
    {
      "cell_type": "code",
      "source": [
        "droped_masked_normal_scores = drop(masked_normal_scores)\n",
        "print(droped_masked_normal_scores)"
      ],
      "metadata": {
        "colab": {
          "base_uri": "https://localhost:8080/"
        },
        "id": "kyXmMpALGnnF",
        "outputId": "9323c54a-f1f1-4aec-a6af-983151b31f21"
      },
      "execution_count": null,
      "outputs": [
        {
          "output_type": "stream",
          "name": "stdout",
          "text": [
            "tensor([[0.0000, 0.0000, 0.0000, 0.0000, 0.0000, 0.0000],\n",
            "        [0.0000, 0.0000, 0.0000, 0.0000, 0.0000, 0.0000],\n",
            "        [0.0000, 0.0000, 0.0000, 0.0000, 0.0000, 0.0000],\n",
            "        [0.0000, 0.0000, 0.4925, 0.4638, 0.0000, 0.0000],\n",
            "        [0.0000, 0.0000, 0.3968, 0.3775, 0.3941, 0.0000],\n",
            "        [0.0000, 0.0000, 0.0000, 0.0000, 0.0000, 0.3058]],\n",
            "       grad_fn=<MulBackward0>)\n"
          ]
        }
      ]
    },
    {
      "cell_type": "code",
      "source": [
        "batch = torch.stack((inputs,inputs),dim = 0)\n",
        "print(batch),print(batch.shape)"
      ],
      "metadata": {
        "colab": {
          "base_uri": "https://localhost:8080/"
        },
        "id": "tBtPHOUhGnkX",
        "outputId": "1418de11-306a-4239-df1a-a15b59a9fd85"
      },
      "execution_count": null,
      "outputs": [
        {
          "output_type": "stream",
          "name": "stdout",
          "text": [
            "tensor([[[0.4300, 0.1500, 0.8900],\n",
            "         [0.5500, 0.8700, 0.6600],\n",
            "         [0.5700, 0.8500, 0.6400],\n",
            "         [0.2200, 0.5800, 0.3300],\n",
            "         [0.7700, 0.2500, 0.1000],\n",
            "         [0.0500, 0.8000, 0.5500]],\n",
            "\n",
            "        [[0.4300, 0.1500, 0.8900],\n",
            "         [0.5500, 0.8700, 0.6600],\n",
            "         [0.5700, 0.8500, 0.6400],\n",
            "         [0.2200, 0.5800, 0.3300],\n",
            "         [0.7700, 0.2500, 0.1000],\n",
            "         [0.0500, 0.8000, 0.5500]]])\n",
            "torch.Size([2, 6, 3])\n"
          ]
        },
        {
          "output_type": "execute_result",
          "data": {
            "text/plain": [
              "(None, None)"
            ]
          },
          "metadata": {},
          "execution_count": 82
        }
      ]
    },
    {
      "cell_type": "code",
      "source": [
        "class CausalAttention(nn.Module):\n",
        "  def __init__(self,d_in,d_out,context_length,dropout = 0,\n",
        "               qkv_bias = False):\n",
        "    super().__init__()\n",
        "    self.W_query = nn.Linear(d_in,d_out, bias = qkv_bias)\n",
        "    self.W_keys = nn.Linear(d_in,d_out, bias = qkv_bias)\n",
        "    self.W_values = nn.Linear(d_in,d_out, bias = qkv_bias)\n",
        "    self.dropout = nn.Dropout(dropout)\n",
        "    self.register_buffer('mask', torch.triu(torch.ones(context_length, context_length), diagonal=1))\n",
        "\n",
        "  def forward(self,x):\n",
        "    d,num_tokens,dim = x.shape\n",
        "    query = self.W_query(x)\n",
        "    keys = self.W_keys(x)\n",
        "    values = self.W_values(x)\n",
        "    # print(query.shape)\n",
        "    # print(keys.transpose(1,2).shape)\n",
        "    attention_scores = query@keys.transpose(1,2)\n",
        "    # print(attention_scores)\n",
        "    attention_scores.masked_fill_(\n",
        "        self.mask.bool()[:num_tokens,:num_tokens],-torch.inf\n",
        "    )\n",
        "    attn_weights = torch.softmax(\n",
        "        attn_score/keys.shape[-1]**0.5,dim =-1\n",
        "    )\n",
        "    attention_weights = self.dropout(attn_weights)\n",
        "    context_vec = attention_weights @ values\n",
        "    return context_vec\n",
        "    # print(attention_scores)\n",
        "\n"
      ],
      "metadata": {
        "id": "DgtpKNGOGnhL"
      },
      "execution_count": null,
      "outputs": []
    },
    {
      "cell_type": "code",
      "source": [
        "torch.manual_seed(123)\n",
        "context_length = batch.shape[1]\n",
        "casa = CausalAttention(d_in = 3,d_out = 2,context_length = context_length)\n",
        "casa(batch)"
      ],
      "metadata": {
        "id": "noCkKtMfwKXD",
        "colab": {
          "base_uri": "https://localhost:8080/"
        },
        "outputId": "daaa6da4-ad99-432a-811f-8fedc322b3f4"
      },
      "execution_count": null,
      "outputs": [
        {
          "output_type": "execute_result",
          "data": {
            "text/plain": [
              "tensor([[[-0.5417, -0.0965],\n",
              "         [-0.5539, -0.1171],\n",
              "         [-0.5537, -0.1170],\n",
              "         [-0.5422, -0.1144],\n",
              "         [-0.5418, -0.1117],\n",
              "         [-0.5450, -0.1160]],\n",
              "\n",
              "        [[-0.5417, -0.0965],\n",
              "         [-0.5539, -0.1171],\n",
              "         [-0.5537, -0.1170],\n",
              "         [-0.5422, -0.1144],\n",
              "         [-0.5418, -0.1117],\n",
              "         [-0.5450, -0.1160]]], grad_fn=<UnsafeViewBackward0>)"
            ]
          },
          "metadata": {},
          "execution_count": 84
        }
      ]
    },
    {
      "cell_type": "markdown",
      "source": [
        "# MultiHeaded Attention Wrapper"
      ],
      "metadata": {
        "id": "zqT16AOebYWl"
      }
    },
    {
      "cell_type": "code",
      "source": [
        "class MultiHeadAttention(nn.Module):\n",
        "  def __init__(self,d_in,d_out,context_length,dropout,qkv_bias,num_heads):\n",
        "    super().__init__()\n",
        "\n",
        "    self.heads = nn.ModuleList(\n",
        "        [CausalAttention(d_in,d_out,context_length,dropout,qkv_bias) for _ in range(num_heads)]\n",
        "    )\n",
        "\n",
        "  def forward(self,x):\n",
        "    return torch.cat([head(x) for head in self.heads],dim = -1)"
      ],
      "metadata": {
        "id": "bS9tVSO6KMTd"
      },
      "execution_count": null,
      "outputs": []
    },
    {
      "cell_type": "code",
      "source": [
        "torch.manual_seed(123)\n",
        "context_length = batch.shape[1]\n",
        "d_in, d_out = 3,2\n",
        "\n",
        "mha = MultiHeadAttention(d_in,d_out,context_length = context_length,dropout = 0,qkv_bias = False,num_heads = 2)\n"
      ],
      "metadata": {
        "id": "WE84M5MTcIbT"
      },
      "execution_count": null,
      "outputs": []
    },
    {
      "cell_type": "code",
      "source": [
        "mha(batch)"
      ],
      "metadata": {
        "colab": {
          "base_uri": "https://localhost:8080/"
        },
        "id": "xxaU2OLHc4di",
        "outputId": "09c88b3e-f61c-4b53-8a91-2ea35895ae02"
      },
      "execution_count": null,
      "outputs": [
        {
          "output_type": "execute_result",
          "data": {
            "text/plain": [
              "tensor([[[-0.5417, -0.0965,  0.5212,  0.3448],\n",
              "         [-0.5539, -0.1171,  0.5301,  0.3647],\n",
              "         [-0.5537, -0.1170,  0.5300,  0.3643],\n",
              "         [-0.5422, -0.1144,  0.5190,  0.3566],\n",
              "         [-0.5418, -0.1117,  0.5201,  0.3509],\n",
              "         [-0.5450, -0.1160,  0.5210,  0.3608]],\n",
              "\n",
              "        [[-0.5417, -0.0965,  0.5212,  0.3448],\n",
              "         [-0.5539, -0.1171,  0.5301,  0.3647],\n",
              "         [-0.5537, -0.1170,  0.5300,  0.3643],\n",
              "         [-0.5422, -0.1144,  0.5190,  0.3566],\n",
              "         [-0.5418, -0.1117,  0.5201,  0.3509],\n",
              "         [-0.5450, -0.1160,  0.5210,  0.3608]]], grad_fn=<CatBackward0>)"
            ]
          },
          "metadata": {},
          "execution_count": 87
        }
      ]
    },
    {
      "cell_type": "code",
      "source": [
        "class MultiheadedAttention(nn.Module):\n",
        "  def __init__(self,d_in,d_out,num_heads,dropout = 0,qkv_bias = False):\n",
        "    super().__init__()\n",
        "    self.out_dim = d_out//num_heads\n",
        "    self.W_query = nn.Linear(d_in,d_out, bias = qkv_bias)\n",
        "    self.W_keys = nn.Linear(d_in,d_out, bias = qkv_bias)\n",
        "    self.W_values = nn.Linear(d_in,d_out, bias = qkv_bias)\n",
        "    self.num_heads = num_heads\n",
        "    self.out_proj = nn.Linear(d_out,d_out)\n",
        "    self.d_out = d_out\n",
        "    self.dropout = nn.Dropout(p = dropout)\n",
        "    self.register_buffer('mask',\n",
        "                         torch.triu(torch.ones(context_length,context_length),\n",
        "                                    diagonal = 1))\n",
        "\n",
        "  def forward(self,x):\n",
        "    b,context_length,dim = x.shape\n",
        "    queries = self.W_query(x)\n",
        "    keys = self.W_keys(x)\n",
        "    values = self.W_values(x)\n",
        "\n",
        "    keys = keys.view(b,context_length,self.num_heads,self.out_dim)\n",
        "    queries = queries.view(b,context_length,self.num_heads,self.out_dim)\n",
        "    values = values.view(b,context_length,self.num_heads,self.out_dim)\n",
        "    # print(values.shape)\n",
        "    keys = keys.transpose(1,2)\n",
        "    queries = queries.transpose(1,2)\n",
        "    values = values.transpose(1,2)\n",
        "\n",
        "    attention_scores = queries @ keys.transpose(2,3)\n",
        "    # print(attention_scores)\n",
        "    mask_bool = self.mask.bool()[:context_length, :context_length]\n",
        "    # print(mask_bool)\n",
        "    attention_scores.masked_fill_(mask_bool,-torch.inf)\n",
        "    # print(attention_scores)\n",
        "    attention_weights = torch.softmax(attention_scores/keys.shape[-1]**0.5,dim = -1)\n",
        "    # print(attention_weights)\n",
        "    # print(values.shape)\n",
        "    context_vector = (attention_weights @ values).transpose(1,2)\n",
        "    # print(context_vector)\n",
        "    context_vector = context_vector.contiguous().view(b,context_length,self.d_out)\n",
        "    context_vector = self.out_proj(context_vector)\n",
        "    return context_vector\n",
        "\n",
        "\n",
        "\n",
        "    # return attention_scores\n",
        "\n"
      ],
      "metadata": {
        "id": "ncK5XNMsdNc2"
      },
      "execution_count": null,
      "outputs": []
    },
    {
      "cell_type": "code",
      "source": [
        "torch.manual_seed(123)\n",
        "c_vect = MultiheadedAttention(d_in,d_out,num_heads = 2)\n",
        "c_vect(batch)"
      ],
      "metadata": {
        "colab": {
          "base_uri": "https://localhost:8080/"
        },
        "id": "HiYVy1DZwgDz",
        "outputId": "9ee57c8b-b2b0-4c35-f559-7dbd1256a60c"
      },
      "execution_count": null,
      "outputs": [
        {
          "output_type": "execute_result",
          "data": {
            "text/plain": [
              "tensor([[[0.3190, 0.4858],\n",
              "         [0.2943, 0.3897],\n",
              "         [0.2856, 0.3593],\n",
              "         [0.2693, 0.3873],\n",
              "         [0.2639, 0.3928],\n",
              "         [0.2575, 0.4028]],\n",
              "\n",
              "        [[0.3190, 0.4858],\n",
              "         [0.2943, 0.3897],\n",
              "         [0.2856, 0.3593],\n",
              "         [0.2693, 0.3873],\n",
              "         [0.2639, 0.3928],\n",
              "         [0.2575, 0.4028]]], grad_fn=<ViewBackward0>)"
            ]
          },
          "metadata": {},
          "execution_count": 141
        }
      ]
    },
    {
      "cell_type": "code",
      "source": [],
      "metadata": {
        "id": "TpgC9EBxxH-C"
      },
      "execution_count": null,
      "outputs": []
    }
  ]
}