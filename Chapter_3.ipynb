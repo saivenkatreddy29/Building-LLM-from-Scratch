{
  "nbformat": 4,
  "nbformat_minor": 0,
  "metadata": {
    "colab": {
      "provenance": [],
      "authorship_tag": "ABX9TyOV69FJld1DIuOuSLjnXvTv",
      "include_colab_link": true
    },
    "kernelspec": {
      "name": "python3",
      "display_name": "Python 3"
    },
    "language_info": {
      "name": "python"
    }
  },
  "cells": [
    {
      "cell_type": "markdown",
      "metadata": {
        "id": "view-in-github",
        "colab_type": "text"
      },
      "source": [
        "<a href=\"https://colab.research.google.com/github/saivenkatreddy29/Building-LLM-from-Scratch/blob/main/Chapter_3.ipynb\" target=\"_parent\"><img src=\"https://colab.research.google.com/assets/colab-badge.svg\" alt=\"Open In Colab\"/></a>"
      ]
    },
    {
      "cell_type": "code",
      "execution_count": null,
      "metadata": {
        "colab": {
          "base_uri": "https://localhost:8080/"
        },
        "id": "KpPBrRBlWmri",
        "outputId": "baeb260a-44cc-491a-bc57-e30c8d48e329"
      },
      "outputs": [
        {
          "output_type": "stream",
          "name": "stdout",
          "text": [
            "torch version 2.5.1+cu121\n"
          ]
        }
      ],
      "source": [
        "from importlib.metadata import version\n",
        "print(\"torch version\", version(\"torch\"))"
      ]
    },
    {
      "cell_type": "code",
      "source": [
        "import torch\n",
        "\n",
        "inputs = torch.tensor(\n",
        "  [[0.43, 0.15, 0.89], # Your     (x^1)\n",
        "   [0.55, 0.87, 0.66], # journey  (x^2)\n",
        "   [0.57, 0.85, 0.64], # starts   (x^3)\n",
        "   [0.22, 0.58, 0.33], # with     (x^4)\n",
        "   [0.77, 0.25, 0.10], # one      (x^5)\n",
        "   [0.05, 0.80, 0.55]] # step     (x^6)\n",
        ")"
      ],
      "metadata": {
        "id": "AhmviQKEW7aa"
      },
      "execution_count": null,
      "outputs": []
    },
    {
      "cell_type": "markdown",
      "source": [
        "Mathemetical dot product"
      ],
      "metadata": {
        "id": "TdxyFodHZKda"
      }
    },
    {
      "cell_type": "code",
      "source": [
        "result = torch.zeros(len(inputs))\n",
        "n = len(inputs)\n",
        "query = inputs[1]\n",
        "for i in range(n):\n",
        "  result[i] = (sum(query*inputs[i]))\n",
        "print(result)\n"
      ],
      "metadata": {
        "colab": {
          "base_uri": "https://localhost:8080/"
        },
        "id": "d2Tq5X09ZKQ-",
        "outputId": "d0f384fe-4c99-43fb-845c-02d84fe66233"
      },
      "execution_count": null,
      "outputs": [
        {
          "output_type": "stream",
          "name": "stdout",
          "text": [
            "tensor([0.9544, 1.4950, 1.4754, 0.8434, 0.7070, 1.0865])\n"
          ]
        }
      ]
    },
    {
      "cell_type": "markdown",
      "source": [
        "Using torch"
      ],
      "metadata": {
        "id": "lgvYI9uIZNfM"
      }
    },
    {
      "cell_type": "code",
      "source": [
        "import numpy as np\n",
        "query = inputs[1]\n",
        "attention_scores = torch.zeros(len(inputs))\n",
        "n = len(inputs)\n",
        "for i in range(n):\n",
        "  attention_scores[i] = torch.dot(query,inputs[i])\n",
        "attention_scores"
      ],
      "metadata": {
        "colab": {
          "base_uri": "https://localhost:8080/"
        },
        "id": "0vE-fEOAXQDT",
        "outputId": "5de704c3-2812-49a0-b091-c39427a59fd5"
      },
      "execution_count": null,
      "outputs": [
        {
          "output_type": "execute_result",
          "data": {
            "text/plain": [
              "tensor([0.9544, 1.4950, 1.4754, 0.8434, 0.7070, 1.0865])"
            ]
          },
          "metadata": {},
          "execution_count": 62
        }
      ]
    },
    {
      "cell_type": "code",
      "source": [
        "attention_scores.shape,inputs.shape"
      ],
      "metadata": {
        "colab": {
          "base_uri": "https://localhost:8080/"
        },
        "id": "67l3YcAaXQy6",
        "outputId": "e4febff2-ab18-4271-e20b-771e9933c869"
      },
      "execution_count": null,
      "outputs": [
        {
          "output_type": "execute_result",
          "data": {
            "text/plain": [
              "(torch.Size([6]), torch.Size([6, 3]))"
            ]
          },
          "metadata": {},
          "execution_count": 63
        }
      ]
    },
    {
      "cell_type": "markdown",
      "source": [
        "Using mathematical method for normalizing"
      ],
      "metadata": {
        "id": "CXvFkyBvY8CG"
      }
    },
    {
      "cell_type": "code",
      "source": [
        "math_norm = attention_scores/sum(attention_scores)\n",
        "math_norm"
      ],
      "metadata": {
        "colab": {
          "base_uri": "https://localhost:8080/"
        },
        "id": "NzP1YGxgY7xM",
        "outputId": "054bb830-3abc-419c-d0b9-741c4ec25c02"
      },
      "execution_count": null,
      "outputs": [
        {
          "output_type": "execute_result",
          "data": {
            "text/plain": [
              "tensor([0.1455, 0.2278, 0.2249, 0.1285, 0.1077, 0.1656])"
            ]
          },
          "metadata": {},
          "execution_count": 64
        }
      ]
    },
    {
      "cell_type": "markdown",
      "source": [
        "Using softmax written in python"
      ],
      "metadata": {
        "id": "sNdT7Znh5Ese"
      }
    },
    {
      "cell_type": "code",
      "source": [
        "import math\n",
        "def naive_softmax(x):\n",
        "  denom = 0\n",
        "  for i in x:\n",
        "    denom += math.exp(i)\n",
        "  print(denom)\n",
        "  # denom = sum(math.exp(x))\n",
        "  return torch.exp(x)/denom\n",
        "python_norm = naive_softmax(attention_scores)\n",
        "print(python_norm)\n"
      ],
      "metadata": {
        "colab": {
          "base_uri": "https://localhost:8080/"
        },
        "id": "vFdGGsZx5IER",
        "outputId": "fa89c68f-39c8-423f-f2c4-936bcfa10241"
      },
      "execution_count": null,
      "outputs": [
        {
          "output_type": "stream",
          "name": "stdout",
          "text": [
            "18.745270996882674\n",
            "tensor([0.1385, 0.2379, 0.2333, 0.1240, 0.1082, 0.1581])\n"
          ]
        }
      ]
    },
    {
      "cell_type": "markdown",
      "source": [
        "Using torch softmax"
      ],
      "metadata": {
        "id": "Wb8Vo2OK5InR"
      }
    },
    {
      "cell_type": "code",
      "source": [
        "normalized_scores = torch.softmax(attention_scores, dim = -1)\n",
        "normalized_scores"
      ],
      "metadata": {
        "colab": {
          "base_uri": "https://localhost:8080/"
        },
        "id": "Kq9ZeLj3XQvc",
        "outputId": "b6231f68-6499-4428-e27a-7912c4f532c6"
      },
      "execution_count": null,
      "outputs": [
        {
          "output_type": "execute_result",
          "data": {
            "text/plain": [
              "tensor([0.1385, 0.2379, 0.2333, 0.1240, 0.1082, 0.1581])"
            ]
          },
          "metadata": {},
          "execution_count": 66
        }
      ]
    },
    {
      "cell_type": "markdown",
      "source": [
        "Context vector for 2nd input we used as example"
      ],
      "metadata": {
        "id": "jXDPjFOz6002"
      }
    },
    {
      "cell_type": "code",
      "source": [
        "query = inputs[1]\n",
        "context_vec_2 = torch.zeros(query.shape)\n",
        "print(context_vec_2)\n",
        "for i in range(n):\n",
        "  # print(f'i:{inputs[i]}')\n",
        "  context_vec_2 += normalized_scores[i] * inputs[i]\n",
        "print(context_vec_2)"
      ],
      "metadata": {
        "colab": {
          "base_uri": "https://localhost:8080/"
        },
        "id": "QF8cym9DXQsi",
        "outputId": "743cc814-ef11-4a4b-c5c4-1e744f8bfd0e"
      },
      "execution_count": null,
      "outputs": [
        {
          "output_type": "stream",
          "name": "stdout",
          "text": [
            "tensor([0., 0., 0.])\n",
            "tensor([0.4419, 0.6515, 0.5683])\n"
          ]
        }
      ]
    },
    {
      "cell_type": "code",
      "source": [],
      "metadata": {
        "id": "dliCHUaq969p"
      },
      "execution_count": null,
      "outputs": []
    },
    {
      "cell_type": "code",
      "source": [
        "attn_score = inputs@inputs.T\n",
        "print(attn_score)"
      ],
      "metadata": {
        "id": "Ibf3sZITXQmM",
        "colab": {
          "base_uri": "https://localhost:8080/"
        },
        "outputId": "08065a06-3b9b-4285-f11a-0bae45e35144"
      },
      "execution_count": null,
      "outputs": [
        {
          "output_type": "stream",
          "name": "stdout",
          "text": [
            "tensor([[0.9995, 0.9544, 0.9422, 0.4753, 0.4576, 0.6310],\n",
            "        [0.9544, 1.4950, 1.4754, 0.8434, 0.7070, 1.0865],\n",
            "        [0.9422, 1.4754, 1.4570, 0.8296, 0.7154, 1.0605],\n",
            "        [0.4753, 0.8434, 0.8296, 0.4937, 0.3474, 0.6565],\n",
            "        [0.4576, 0.7070, 0.7154, 0.3474, 0.6654, 0.2935],\n",
            "        [0.6310, 1.0865, 1.0605, 0.6565, 0.2935, 0.9450]])\n"
          ]
        }
      ]
    },
    {
      "cell_type": "code",
      "source": [
        "attn_weights = torch.softmax(attn_score, dim = -1)\n",
        "print(attn_weights)"
      ],
      "metadata": {
        "id": "7HlEES6C_581",
        "colab": {
          "base_uri": "https://localhost:8080/"
        },
        "outputId": "4d488f86-6242-47b0-909e-8e196eba1d00"
      },
      "execution_count": null,
      "outputs": [
        {
          "output_type": "stream",
          "name": "stdout",
          "text": [
            "tensor([[0.2098, 0.2006, 0.1981, 0.1242, 0.1220, 0.1452],\n",
            "        [0.1385, 0.2379, 0.2333, 0.1240, 0.1082, 0.1581],\n",
            "        [0.1390, 0.2369, 0.2326, 0.1242, 0.1108, 0.1565],\n",
            "        [0.1435, 0.2074, 0.2046, 0.1462, 0.1263, 0.1720],\n",
            "        [0.1526, 0.1958, 0.1975, 0.1367, 0.1879, 0.1295],\n",
            "        [0.1385, 0.2184, 0.2128, 0.1420, 0.0988, 0.1896]])\n"
          ]
        }
      ]
    },
    {
      "cell_type": "code",
      "source": [
        "print(attn_weights.sum(dim = -1))"
      ],
      "metadata": {
        "id": "9IX63Tk3_55U",
        "colab": {
          "base_uri": "https://localhost:8080/"
        },
        "outputId": "2ee93a7c-73d9-487f-d1b8-23efe676ece7"
      },
      "execution_count": null,
      "outputs": [
        {
          "output_type": "stream",
          "name": "stdout",
          "text": [
            "tensor([1.0000, 1.0000, 1.0000, 1.0000, 1.0000, 1.0000])\n"
          ]
        }
      ]
    },
    {
      "cell_type": "code",
      "source": [
        "context_vector = attn_weights @ inputs\n",
        "print(context_vector)"
      ],
      "metadata": {
        "id": "vvUXGBgm_52o",
        "colab": {
          "base_uri": "https://localhost:8080/"
        },
        "outputId": "7ddd78d7-0266-48c5-87cf-e7d59e5c366d"
      },
      "execution_count": null,
      "outputs": [
        {
          "output_type": "stream",
          "name": "stdout",
          "text": [
            "tensor([[0.4421, 0.5931, 0.5790],\n",
            "        [0.4419, 0.6515, 0.5683],\n",
            "        [0.4431, 0.6496, 0.5671],\n",
            "        [0.4304, 0.6298, 0.5510],\n",
            "        [0.4671, 0.5910, 0.5266],\n",
            "        [0.4177, 0.6503, 0.5645]])\n"
          ]
        }
      ]
    },
    {
      "cell_type": "markdown",
      "source": [
        "# Implementing Self attention with trainable weights"
      ],
      "metadata": {
        "id": "gt5-huO2TPL_"
      }
    },
    {
      "cell_type": "code",
      "source": [
        "x2 = inputs[1]\n",
        "d_in = inputs.shape[1]\n",
        "d_out = 2"
      ],
      "metadata": {
        "id": "m3z5r2KG_5z7"
      },
      "execution_count": null,
      "outputs": []
    },
    {
      "cell_type": "code",
      "source": [
        "torch.manual_seed(123)\n",
        "\n",
        "W_query = torch.nn.Parameter(torch.rand(d_in,d_out),requires_grad = False)\n",
        "W_key = torch.nn.Parameter(torch.rand(d_in,d_out),requires_grad = False)\n",
        "W_value = torch.nn.Parameter(torch.rand(d_in,d_out),requires_grad = False)\n",
        "\n"
      ],
      "metadata": {
        "id": "VY6ABIpnTjDe"
      },
      "execution_count": null,
      "outputs": []
    },
    {
      "cell_type": "code",
      "source": [
        "query2 = x2@ W_query\n",
        "key_2 = x2@ W_key\n",
        "value2 = x2@ W_value\n",
        "\n",
        "print(query2)"
      ],
      "metadata": {
        "colab": {
          "base_uri": "https://localhost:8080/"
        },
        "id": "25-eokHsVQvv",
        "outputId": "b0064ae4-18f2-4c91-bd7b-69ad90184702"
      },
      "execution_count": null,
      "outputs": [
        {
          "output_type": "stream",
          "name": "stdout",
          "text": [
            "tensor([0.4306, 1.4551])\n"
          ]
        }
      ]
    },
    {
      "cell_type": "code",
      "source": [
        "keys = inputs@W_key\n",
        "values = inputs@W_value\n",
        "print(f'key shape:{keys.shape}')\n",
        "print(f'value shape:{values.shape}')"
      ],
      "metadata": {
        "colab": {
          "base_uri": "https://localhost:8080/"
        },
        "id": "sqTILSWhVo4y",
        "outputId": "a4b5772d-f951-48df-fa99-7d54b4e962b8"
      },
      "execution_count": null,
      "outputs": [
        {
          "output_type": "stream",
          "name": "stdout",
          "text": [
            "key shape:torch.Size([6, 2])\n",
            "value shape:torch.Size([6, 2])\n"
          ]
        }
      ]
    },
    {
      "cell_type": "code",
      "source": [
        "keys_2 = keys[1]\n",
        "attention_score22 = query2.dot(keys_2)\n",
        "print(attention_score22) # score for 2nd to itself"
      ],
      "metadata": {
        "colab": {
          "base_uri": "https://localhost:8080/"
        },
        "id": "Hq-psy9wV5CU",
        "outputId": "880784f8-6226-4886-ba5b-cef4aaaeb22d"
      },
      "execution_count": null,
      "outputs": [
        {
          "output_type": "stream",
          "name": "stdout",
          "text": [
            "tensor(1.8524)\n"
          ]
        }
      ]
    },
    {
      "cell_type": "code",
      "source": [
        "attention_scores_2 = query2 @keys.T\n",
        "print(attention_scores_2)"
      ],
      "metadata": {
        "colab": {
          "base_uri": "https://localhost:8080/"
        },
        "id": "67Sw_0h3V4_J",
        "outputId": "67175765-623b-4e0d-c63e-e7c3eb0dd20e"
      },
      "execution_count": null,
      "outputs": [
        {
          "output_type": "stream",
          "name": "stdout",
          "text": [
            "tensor([1.2705, 1.8524, 1.8111, 1.0795, 0.5577, 1.5440])\n"
          ]
        }
      ]
    },
    {
      "cell_type": "code",
      "source": [
        "d_k = keys.shape[1]\n",
        "attention_weights = torch.softmax((attention_scores_2/d_k**0.5),dim = -1)\n",
        "print(attention_weights)"
      ],
      "metadata": {
        "colab": {
          "base_uri": "https://localhost:8080/"
        },
        "id": "qKguI2J2V48d",
        "outputId": "16de3989-1a75-4524-dea6-1df70e1df9c3"
      },
      "execution_count": null,
      "outputs": [
        {
          "output_type": "stream",
          "name": "stdout",
          "text": [
            "tensor([0.1500, 0.2264, 0.2199, 0.1311, 0.0906, 0.1820])\n"
          ]
        }
      ]
    },
    {
      "cell_type": "code",
      "source": [
        "context_vec = attention_weights @ values\n",
        "print(context_vec)"
      ],
      "metadata": {
        "colab": {
          "base_uri": "https://localhost:8080/"
        },
        "id": "Mm552hm-XaeZ",
        "outputId": "1531410f-6c9e-4402-b48d-744a622bccd0"
      },
      "execution_count": null,
      "outputs": [
        {
          "output_type": "stream",
          "name": "stdout",
          "text": [
            "tensor([0.3061, 0.8210])\n"
          ]
        }
      ]
    },
    {
      "cell_type": "markdown",
      "source": [
        "# Implementing this in compact Self attention Class"
      ],
      "metadata": {
        "id": "Y_kX-tAeYKuo"
      }
    },
    {
      "cell_type": "code",
      "source": [
        "from torch import nn\n",
        "\n",
        "class SelfAttention_v1(nn.Module):\n",
        "  def __init__(self,d_in,d_out):\n",
        "    super().__init__()\n",
        "    self.W_query = nn.Parameter(torch.rand(d_in,d_out),requires_grad = True)\n",
        "    self.W_key = nn.Parameter(torch.rand(d_in,d_out),requires_grad = True)\n",
        "    self.W_value = nn.Parameter(torch.rand(d_in,d_out),requires_grad = True)\n",
        "\n",
        "  def forward(self,x):\n",
        "    self.query = x@ self.W_query\n",
        "    self.key = x @ self.W_key\n",
        "    self.value = x@self.W_value\n",
        "    self.attscores = self.query @ self.key.T\n",
        "    self.d = x.shape[-1]\n",
        "    self.attweights = torch.softmax((self.attscores/self.d**0.5),dim= -1)\n",
        "    self.output = self.attweights @ self.value\n",
        "    return self.output\n"
      ],
      "metadata": {
        "id": "t_K28pUmYBCF"
      },
      "execution_count": null,
      "outputs": []
    },
    {
      "cell_type": "code",
      "source": [
        "torch.manual_seed(123)\n",
        "selfatt = SelfAttention_v1(d_in = 3,d_out = 2)\n",
        "selfatt(inputs)"
      ],
      "metadata": {
        "colab": {
          "base_uri": "https://localhost:8080/"
        },
        "id": "rZE3KCH1ZK2W",
        "outputId": "fd8cf127-78a3-4623-be16-6fd3f0d7f35a"
      },
      "execution_count": null,
      "outputs": [
        {
          "output_type": "execute_result",
          "data": {
            "text/plain": [
              "tensor([[0.2961, 0.7970],\n",
              "        [0.3016, 0.8104],\n",
              "        [0.3013, 0.8098],\n",
              "        [0.2921, 0.7873],\n",
              "        [0.2904, 0.7833],\n",
              "        [0.2956, 0.7959]], grad_fn=<MmBackward0>)"
            ]
          },
          "metadata": {},
          "execution_count": 81
        }
      ]
    },
    {
      "cell_type": "code",
      "source": [
        "class SelfAttention_v2(nn.Module):\n",
        "  def __init__(self,\n",
        "               d_in,d_out,qkv_bias = False):\n",
        "    super().__init__()\n",
        "    self.W_query = nn.Linear(d_in,d_out,bias = qkv_bias)\n",
        "    self.W_keys = nn.Linear(d_in,d_out,bias = qkv_bias)\n",
        "    self.W_values = nn.Linear(d_in,d_out,bias = qkv_bias)\n",
        "\n",
        "  def forward(self,x):\n",
        "    queris = self.W_query(x)\n",
        "    keys = self.W_keys(x)\n",
        "    values = self.W_values(x)\n",
        "    dim = x.shape[1]\n",
        "    attn_scores = queris@keys.T\n",
        "    attn_weights = torch.softmax((attn_scores/dim**0.5),dim = -1)\n",
        "    output = attn_weights@values\n",
        "    return output\n"
      ],
      "metadata": {
        "id": "CisSD4hdZQ5J"
      },
      "execution_count": null,
      "outputs": []
    },
    {
      "cell_type": "code",
      "source": [
        "torch.manual_seed(789)\n",
        "sa_v2 = SelfAttention_v2(d_in = 3,d_out = 2)\n",
        "print(sa_v2(inputs))"
      ],
      "metadata": {
        "colab": {
          "base_uri": "https://localhost:8080/"
        },
        "id": "XT2dC3O3cKkR",
        "outputId": "0f3e6a1b-e6d6-4a4f-a0f5-77414614226e"
      },
      "execution_count": null,
      "outputs": [
        {
          "output_type": "stream",
          "name": "stdout",
          "text": [
            "tensor([[-0.0745,  0.0704],\n",
            "        [-0.0752,  0.0697],\n",
            "        [-0.0752,  0.0696],\n",
            "        [-0.0762,  0.0681],\n",
            "        [-0.0765,  0.0677],\n",
            "        [-0.0757,  0.0688]], grad_fn=<MmBackward0>)\n"
          ]
        }
      ]
    },
    {
      "cell_type": "markdown",
      "source": [
        "# Hiding Future words with Causal attention"
      ],
      "metadata": {
        "id": "miHRUsLVjfSl"
      }
    },
    {
      "cell_type": "code",
      "source": [
        "keys = sa_v2.W_keys(inputs)\n",
        "queries = sa_v2.W_query(inputs)\n",
        "# print(keys)\n",
        "d = keys.shape[1]\n",
        "attn_scores = queries @ keys.T\n",
        "attn_weights = torch.softmax((attn_scores/d**0.5),dim = -1)\n",
        "print(attn_weights)"
      ],
      "metadata": {
        "colab": {
          "base_uri": "https://localhost:8080/"
        },
        "id": "v7fzXwo7cua-",
        "outputId": "0b30edfa-a41e-4330-abeb-28d1f7df01f9"
      },
      "execution_count": null,
      "outputs": [
        {
          "output_type": "stream",
          "name": "stdout",
          "text": [
            "tensor([[0.1921, 0.1646, 0.1652, 0.1550, 0.1721, 0.1510],\n",
            "        [0.2041, 0.1659, 0.1662, 0.1496, 0.1665, 0.1477],\n",
            "        [0.2036, 0.1659, 0.1662, 0.1498, 0.1664, 0.1480],\n",
            "        [0.1869, 0.1667, 0.1668, 0.1571, 0.1661, 0.1564],\n",
            "        [0.1830, 0.1669, 0.1670, 0.1588, 0.1658, 0.1585],\n",
            "        [0.1935, 0.1663, 0.1666, 0.1542, 0.1666, 0.1529]],\n",
            "       grad_fn=<SoftmaxBackward0>)\n"
          ]
        }
      ]
    },
    {
      "cell_type": "code",
      "source": [
        "context_length = attn_score.shape[0]\n",
        "mask_simple = torch.tril(torch.ones(context_length,context_length))\n",
        "mask_simple"
      ],
      "metadata": {
        "colab": {
          "base_uri": "https://localhost:8080/"
        },
        "id": "lqe7-WTJcuXa",
        "outputId": "0d2e5be7-9f80-4a5a-bd6a-492369fb8782"
      },
      "execution_count": null,
      "outputs": [
        {
          "output_type": "execute_result",
          "data": {
            "text/plain": [
              "tensor([[1., 0., 0., 0., 0., 0.],\n",
              "        [1., 1., 0., 0., 0., 0.],\n",
              "        [1., 1., 1., 0., 0., 0.],\n",
              "        [1., 1., 1., 1., 0., 0.],\n",
              "        [1., 1., 1., 1., 1., 0.],\n",
              "        [1., 1., 1., 1., 1., 1.]])"
            ]
          },
          "metadata": {},
          "execution_count": 85
        }
      ]
    },
    {
      "cell_type": "code",
      "source": [
        "masked_sample = attn_weights * mask_simple\n",
        "masked_sample"
      ],
      "metadata": {
        "colab": {
          "base_uri": "https://localhost:8080/"
        },
        "id": "1bD7m1Q0cuUf",
        "outputId": "e0fa9bae-adf1-4ce4-df2c-6b6eda4eecd4"
      },
      "execution_count": null,
      "outputs": [
        {
          "output_type": "execute_result",
          "data": {
            "text/plain": [
              "tensor([[0.1921, 0.0000, 0.0000, 0.0000, 0.0000, 0.0000],\n",
              "        [0.2041, 0.1659, 0.0000, 0.0000, 0.0000, 0.0000],\n",
              "        [0.2036, 0.1659, 0.1662, 0.0000, 0.0000, 0.0000],\n",
              "        [0.1869, 0.1667, 0.1668, 0.1571, 0.0000, 0.0000],\n",
              "        [0.1830, 0.1669, 0.1670, 0.1588, 0.1658, 0.0000],\n",
              "        [0.1935, 0.1663, 0.1666, 0.1542, 0.1666, 0.1529]],\n",
              "       grad_fn=<MulBackward0>)"
            ]
          },
          "metadata": {},
          "execution_count": 86
        }
      ]
    },
    {
      "cell_type": "code",
      "source": [
        "masked_sample_norm = masked_sample/masked_sample.sum(dim = -1)\n",
        "masked_sample_norm"
      ],
      "metadata": {
        "colab": {
          "base_uri": "https://localhost:8080/"
        },
        "id": "gBFYULehcuRf",
        "outputId": "b32da8e9-0811-4eb3-a122-f38bb46e61a3"
      },
      "execution_count": null,
      "outputs": [
        {
          "output_type": "execute_result",
          "data": {
            "text/plain": [
              "tensor([[1.0000, 0.0000, 0.0000, 0.0000, 0.0000, 0.0000],\n",
              "        [1.0625, 0.4483, 0.0000, 0.0000, 0.0000, 0.0000],\n",
              "        [1.0595, 0.4484, 0.3103, 0.0000, 0.0000, 0.0000],\n",
              "        [0.9727, 0.4505, 0.3114, 0.2319, 0.0000, 0.0000],\n",
              "        [0.9527, 0.4510, 0.3116, 0.2344, 0.1971, 0.0000],\n",
              "        [1.0070, 0.4495, 0.3109, 0.2276, 0.1979, 0.1529]],\n",
              "       grad_fn=<DivBackward0>)"
            ]
          },
          "metadata": {},
          "execution_count": 87
        }
      ]
    },
    {
      "cell_type": "markdown",
      "source": [
        "We can do it directly if we add the -inf to the tril"
      ],
      "metadata": {
        "id": "PgRBdRMilxZK"
      }
    },
    {
      "cell_type": "code",
      "source": [
        "mask = torch.triu(torch.ones(context_length,context_length),diagonal = 1)\n",
        "masked = attn_scores.masked_fill(mask.bool(),-torch.inf)\n",
        "print(masked)"
      ],
      "metadata": {
        "colab": {
          "base_uri": "https://localhost:8080/"
        },
        "id": "HFDKj51QcV9p",
        "outputId": "48f269df-a8db-4220-f345-1827d3a4a895"
      },
      "execution_count": null,
      "outputs": [
        {
          "output_type": "stream",
          "name": "stdout",
          "text": [
            "tensor([[0.2899,   -inf,   -inf,   -inf,   -inf,   -inf],\n",
            "        [0.4656, 0.1723,   -inf,   -inf,   -inf,   -inf],\n",
            "        [0.4594, 0.1703, 0.1731,   -inf,   -inf,   -inf],\n",
            "        [0.2642, 0.1024, 0.1036, 0.0186,   -inf,   -inf],\n",
            "        [0.2183, 0.0874, 0.0882, 0.0177, 0.0786,   -inf],\n",
            "        [0.3408, 0.1270, 0.1290, 0.0198, 0.1290, 0.0078]],\n",
            "       grad_fn=<MaskedFillBackward0>)\n"
          ]
        }
      ]
    },
    {
      "cell_type": "code",
      "source": [
        "masked_normal_scores = torch.softmax((masked/d**0.5),dim = -1)\n",
        "masked_normal_scores"
      ],
      "metadata": {
        "colab": {
          "base_uri": "https://localhost:8080/"
        },
        "id": "JfhK4jE-mBjt",
        "outputId": "050c7a1a-006f-40fb-ebaa-f9ee811b59ca"
      },
      "execution_count": null,
      "outputs": [
        {
          "output_type": "execute_result",
          "data": {
            "text/plain": [
              "tensor([[1.0000, 0.0000, 0.0000, 0.0000, 0.0000, 0.0000],\n",
              "        [0.5517, 0.4483, 0.0000, 0.0000, 0.0000, 0.0000],\n",
              "        [0.3800, 0.3097, 0.3103, 0.0000, 0.0000, 0.0000],\n",
              "        [0.2758, 0.2460, 0.2462, 0.2319, 0.0000, 0.0000],\n",
              "        [0.2175, 0.1983, 0.1984, 0.1888, 0.1971, 0.0000],\n",
              "        [0.1935, 0.1663, 0.1666, 0.1542, 0.1666, 0.1529]],\n",
              "       grad_fn=<SoftmaxBackward0>)"
            ]
          },
          "metadata": {},
          "execution_count": 89
        }
      ]
    },
    {
      "cell_type": "markdown",
      "source": [
        "# Masking additonal attention weights with dropout"
      ],
      "metadata": {
        "id": "Knpx0G6ewRHc"
      }
    },
    {
      "cell_type": "code",
      "source": [
        "# Test how dropout works\n",
        "context_length = inputs.shape[0]\n",
        "example = torch.ones(context_length,context_length)\n",
        "drop = torch.nn.Dropout(p =0.5)\n",
        "droped = drop(example)\n",
        "print(droped)"
      ],
      "metadata": {
        "colab": {
          "base_uri": "https://localhost:8080/"
        },
        "id": "q-0egV1RGnqe",
        "outputId": "0836b72d-c107-47bc-830f-6dc8a4e38dbf"
      },
      "execution_count": null,
      "outputs": [
        {
          "output_type": "stream",
          "name": "stdout",
          "text": [
            "tensor([[2., 0., 2., 2., 2., 2.],\n",
            "        [2., 0., 2., 2., 0., 2.],\n",
            "        [0., 2., 2., 0., 2., 0.],\n",
            "        [2., 2., 2., 0., 0., 0.],\n",
            "        [0., 0., 2., 2., 0., 2.],\n",
            "        [0., 2., 2., 2., 0., 2.]])\n"
          ]
        }
      ]
    },
    {
      "cell_type": "code",
      "source": [
        "droped_masked_normal_scores = drop(masked_normal_scores)\n",
        "print(droped_masked_normal_scores)"
      ],
      "metadata": {
        "colab": {
          "base_uri": "https://localhost:8080/"
        },
        "id": "kyXmMpALGnnF",
        "outputId": "75220def-7256-4db3-e55b-49c82dbfd1c2"
      },
      "execution_count": null,
      "outputs": [
        {
          "output_type": "stream",
          "name": "stdout",
          "text": [
            "tensor([[0.0000, 0.0000, 0.0000, 0.0000, 0.0000, 0.0000],\n",
            "        [0.0000, 0.0000, 0.0000, 0.0000, 0.0000, 0.0000],\n",
            "        [0.0000, 0.0000, 0.0000, 0.0000, 0.0000, 0.0000],\n",
            "        [0.0000, 0.0000, 0.4925, 0.4638, 0.0000, 0.0000],\n",
            "        [0.0000, 0.0000, 0.3968, 0.3775, 0.3941, 0.0000],\n",
            "        [0.0000, 0.0000, 0.0000, 0.0000, 0.0000, 0.3058]],\n",
            "       grad_fn=<MulBackward0>)\n"
          ]
        }
      ]
    },
    {
      "cell_type": "code",
      "source": [
        "batch = torch.stack((inputs,inputs),dim = 0)\n",
        "print(batch),print(batch.shape)"
      ],
      "metadata": {
        "colab": {
          "base_uri": "https://localhost:8080/"
        },
        "id": "tBtPHOUhGnkX",
        "outputId": "c9d5a285-b7c5-45e2-dc45-f7724a3277d3"
      },
      "execution_count": null,
      "outputs": [
        {
          "output_type": "stream",
          "name": "stdout",
          "text": [
            "tensor([[[0.4300, 0.1500, 0.8900],\n",
            "         [0.5500, 0.8700, 0.6600],\n",
            "         [0.5700, 0.8500, 0.6400],\n",
            "         [0.2200, 0.5800, 0.3300],\n",
            "         [0.7700, 0.2500, 0.1000],\n",
            "         [0.0500, 0.8000, 0.5500]],\n",
            "\n",
            "        [[0.4300, 0.1500, 0.8900],\n",
            "         [0.5500, 0.8700, 0.6600],\n",
            "         [0.5700, 0.8500, 0.6400],\n",
            "         [0.2200, 0.5800, 0.3300],\n",
            "         [0.7700, 0.2500, 0.1000],\n",
            "         [0.0500, 0.8000, 0.5500]]])\n",
            "torch.Size([2, 6, 3])\n"
          ]
        },
        {
          "output_type": "execute_result",
          "data": {
            "text/plain": [
              "(None, None)"
            ]
          },
          "metadata": {},
          "execution_count": 92
        }
      ]
    },
    {
      "cell_type": "code",
      "source": [
        "class CausalAttention(nn.Module):\n",
        "  def __init__(self,d_in,d_out,context_length,dropout = 0,\n",
        "               qkv_bias = False):\n",
        "    super().__init__()\n",
        "    self.W_query = nn.Linear(d_in,d_out, bias = qkv_bias)\n",
        "    self.W_keys = nn.Linear(d_in,d_out, bias = qkv_bias)\n",
        "    self.W_values = nn.Linear(d_in,d_out, bias = qkv_bias)\n",
        "    self.dropout = nn.Dropout(dropout)\n",
        "    self.register_buffer('mask', torch.triu(torch.ones(context_length, context_length), diagonal=1))\n",
        "\n",
        "  def forward(self,x):\n",
        "    d,num_tokens,dim = x.shape\n",
        "    query = self.W_query(x)\n",
        "    keys = self.W_keys(x)\n",
        "    values = self.W_values(x)\n",
        "    # print(query.shape)\n",
        "    # print(keys.transpose(1,2).shape)\n",
        "    attention_scores = query@keys.transpose(1,2)\n",
        "    # print(attention_scores)\n",
        "    attention_scores.masked_fill_(\n",
        "        self.mask.bool()[:num_tokens,:num_tokens],-torch.inf\n",
        "    )\n",
        "    attn_weights = torch.softmax(\n",
        "        attn_score/keys.shape[-1]**0.5,dim =-1\n",
        "    )\n",
        "    attention_weights = self.dropout(attn_weights)\n",
        "    context_vec = attention_weights @ values\n",
        "    return context_vec\n",
        "    # print(attention_scores)\n",
        "\n"
      ],
      "metadata": {
        "id": "DgtpKNGOGnhL"
      },
      "execution_count": null,
      "outputs": []
    },
    {
      "cell_type": "code",
      "source": [
        "torch.manual_seed(123)\n",
        "context_length = batch.shape[1]\n",
        "casa = CausalAttention(d_in = 3,d_out = 2,context_length = context_length)\n",
        "casa(batch)"
      ],
      "metadata": {
        "id": "noCkKtMfwKXD",
        "colab": {
          "base_uri": "https://localhost:8080/"
        },
        "outputId": "96f2a65e-7e0f-4a93-94b3-d59216d8876b"
      },
      "execution_count": null,
      "outputs": [
        {
          "output_type": "execute_result",
          "data": {
            "text/plain": [
              "tensor([[[-0.5417, -0.0965],\n",
              "         [-0.5539, -0.1171],\n",
              "         [-0.5537, -0.1170],\n",
              "         [-0.5422, -0.1144],\n",
              "         [-0.5418, -0.1117],\n",
              "         [-0.5450, -0.1160]],\n",
              "\n",
              "        [[-0.5417, -0.0965],\n",
              "         [-0.5539, -0.1171],\n",
              "         [-0.5537, -0.1170],\n",
              "         [-0.5422, -0.1144],\n",
              "         [-0.5418, -0.1117],\n",
              "         [-0.5450, -0.1160]]], grad_fn=<UnsafeViewBackward0>)"
            ]
          },
          "metadata": {},
          "execution_count": 136
        }
      ]
    },
    {
      "cell_type": "code",
      "source": [],
      "metadata": {
        "id": "bS9tVSO6KMTd"
      },
      "execution_count": null,
      "outputs": []
    }
  ]
}