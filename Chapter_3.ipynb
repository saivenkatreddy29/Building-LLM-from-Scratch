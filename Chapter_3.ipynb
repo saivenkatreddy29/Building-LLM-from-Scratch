{
  "nbformat": 4,
  "nbformat_minor": 0,
  "metadata": {
    "colab": {
      "provenance": [],
      "authorship_tag": "ABX9TyP00K4brN7CV8yanUmNepqG",
      "include_colab_link": true
    },
    "kernelspec": {
      "name": "python3",
      "display_name": "Python 3"
    },
    "language_info": {
      "name": "python"
    }
  },
  "cells": [
    {
      "cell_type": "markdown",
      "metadata": {
        "id": "view-in-github",
        "colab_type": "text"
      },
      "source": [
        "<a href=\"https://colab.research.google.com/github/saivenkatreddy29/Building-LLM-from-Scratch/blob/main/Chapter_3.ipynb\" target=\"_parent\"><img src=\"https://colab.research.google.com/assets/colab-badge.svg\" alt=\"Open In Colab\"/></a>"
      ]
    },
    {
      "cell_type": "code",
      "execution_count": 25,
      "metadata": {
        "colab": {
          "base_uri": "https://localhost:8080/"
        },
        "id": "KpPBrRBlWmri",
        "outputId": "d86e27d4-40b4-474e-b828-9a282fd51708"
      },
      "outputs": [
        {
          "output_type": "stream",
          "name": "stdout",
          "text": [
            "torch version 2.5.1+cu121\n"
          ]
        }
      ],
      "source": [
        "from importlib.metadata import version\n",
        "print(\"torch version\", version(\"torch\"))"
      ]
    },
    {
      "cell_type": "code",
      "source": [
        "import torch\n",
        "\n",
        "inputs = torch.tensor(\n",
        "  [[0.43, 0.15, 0.89], # Your     (x^1)\n",
        "   [0.55, 0.87, 0.66], # journey  (x^2)\n",
        "   [0.57, 0.85, 0.64], # starts   (x^3)\n",
        "   [0.22, 0.58, 0.33], # with     (x^4)\n",
        "   [0.77, 0.25, 0.10], # one      (x^5)\n",
        "   [0.05, 0.80, 0.55]] # step     (x^6)\n",
        ")"
      ],
      "metadata": {
        "id": "AhmviQKEW7aa"
      },
      "execution_count": 26,
      "outputs": []
    },
    {
      "cell_type": "markdown",
      "source": [
        "Mathemetical dot product"
      ],
      "metadata": {
        "id": "TdxyFodHZKda"
      }
    },
    {
      "cell_type": "code",
      "source": [
        "result = torch.zeros(len(inputs))\n",
        "n = len(inputs)\n",
        "query = inputs[1]\n",
        "for i in range(n):\n",
        "  result[i] = (sum(query*inputs[i]))\n",
        "print(result)\n"
      ],
      "metadata": {
        "colab": {
          "base_uri": "https://localhost:8080/"
        },
        "id": "d2Tq5X09ZKQ-",
        "outputId": "6c80ae6e-e145-407f-e9f1-7a56a179603a"
      },
      "execution_count": 27,
      "outputs": [
        {
          "output_type": "stream",
          "name": "stdout",
          "text": [
            "tensor([0.9544, 1.4950, 1.4754, 0.8434, 0.7070, 1.0865])\n"
          ]
        }
      ]
    },
    {
      "cell_type": "markdown",
      "source": [
        "Using torch"
      ],
      "metadata": {
        "id": "lgvYI9uIZNfM"
      }
    },
    {
      "cell_type": "code",
      "source": [
        "import numpy as np\n",
        "query = inputs[1]\n",
        "attention_scores = torch.zeros(len(inputs))\n",
        "n = len(inputs)\n",
        "for i in range(n):\n",
        "  attention_scores[i] = torch.dot(query,inputs[i])\n",
        "attention_scores"
      ],
      "metadata": {
        "colab": {
          "base_uri": "https://localhost:8080/"
        },
        "id": "0vE-fEOAXQDT",
        "outputId": "0563e66e-a61c-4046-8991-0b67133599cc"
      },
      "execution_count": 28,
      "outputs": [
        {
          "output_type": "execute_result",
          "data": {
            "text/plain": [
              "tensor([0.9544, 1.4950, 1.4754, 0.8434, 0.7070, 1.0865])"
            ]
          },
          "metadata": {},
          "execution_count": 28
        }
      ]
    },
    {
      "cell_type": "code",
      "source": [
        "attention_scores.shape,inputs.shape"
      ],
      "metadata": {
        "colab": {
          "base_uri": "https://localhost:8080/"
        },
        "id": "67l3YcAaXQy6",
        "outputId": "13bf1dd2-2fef-4c7d-e05a-8d96c85f631a"
      },
      "execution_count": 29,
      "outputs": [
        {
          "output_type": "execute_result",
          "data": {
            "text/plain": [
              "(torch.Size([6]), torch.Size([6, 3]))"
            ]
          },
          "metadata": {},
          "execution_count": 29
        }
      ]
    },
    {
      "cell_type": "markdown",
      "source": [
        "Using mathematical method for normalizing"
      ],
      "metadata": {
        "id": "CXvFkyBvY8CG"
      }
    },
    {
      "cell_type": "code",
      "source": [
        "math_norm = attention_scores/sum(attention_scores)\n",
        "math_norm"
      ],
      "metadata": {
        "colab": {
          "base_uri": "https://localhost:8080/"
        },
        "id": "NzP1YGxgY7xM",
        "outputId": "ced77c04-5150-4800-85c7-c877b46f9c9d"
      },
      "execution_count": 30,
      "outputs": [
        {
          "output_type": "execute_result",
          "data": {
            "text/plain": [
              "tensor([0.1455, 0.2278, 0.2249, 0.1285, 0.1077, 0.1656])"
            ]
          },
          "metadata": {},
          "execution_count": 30
        }
      ]
    },
    {
      "cell_type": "markdown",
      "source": [
        "Using softmax written in python"
      ],
      "metadata": {
        "id": "sNdT7Znh5Ese"
      }
    },
    {
      "cell_type": "code",
      "source": [
        "import math\n",
        "def naive_softmax(x):\n",
        "  denom = 0\n",
        "  for i in x:\n",
        "    denom += math.exp(i)\n",
        "  print(denom)\n",
        "  # denom = sum(math.exp(x))\n",
        "  return torch.exp(x)/denom\n",
        "python_norm = naive_softmax(attention_scores)\n",
        "print(python_norm)\n"
      ],
      "metadata": {
        "colab": {
          "base_uri": "https://localhost:8080/"
        },
        "id": "vFdGGsZx5IER",
        "outputId": "e689bc80-903a-4de6-cb9b-486923c2c4fb"
      },
      "execution_count": 31,
      "outputs": [
        {
          "output_type": "stream",
          "name": "stdout",
          "text": [
            "18.745270996882674\n",
            "tensor([0.1385, 0.2379, 0.2333, 0.1240, 0.1082, 0.1581])\n"
          ]
        }
      ]
    },
    {
      "cell_type": "markdown",
      "source": [
        "Using torch softmax"
      ],
      "metadata": {
        "id": "Wb8Vo2OK5InR"
      }
    },
    {
      "cell_type": "code",
      "source": [
        "normalized_scores = torch.softmax(attention_scores, dim = -1)\n",
        "normalized_scores"
      ],
      "metadata": {
        "colab": {
          "base_uri": "https://localhost:8080/"
        },
        "id": "Kq9ZeLj3XQvc",
        "outputId": "cf3f4d71-97d1-4d6f-e094-c1f10b571291"
      },
      "execution_count": 40,
      "outputs": [
        {
          "output_type": "execute_result",
          "data": {
            "text/plain": [
              "tensor([0.1385, 0.2379, 0.2333, 0.1240, 0.1082, 0.1581])"
            ]
          },
          "metadata": {},
          "execution_count": 40
        }
      ]
    },
    {
      "cell_type": "markdown",
      "source": [
        "Context vector for 2nd input we used as example"
      ],
      "metadata": {
        "id": "jXDPjFOz6002"
      }
    },
    {
      "cell_type": "code",
      "source": [],
      "metadata": {
        "id": "O8FqfHKm_QfK"
      },
      "execution_count": 51,
      "outputs": []
    },
    {
      "cell_type": "code",
      "source": [
        "query = inputs[1]\n",
        "context_vec_2 = torch.zeros(query.shape)\n",
        "print(context_vec_2)\n",
        "for i in range(n):\n",
        "  # print(f'i:{inputs[i]}')\n",
        "  context_vec_2 += normalized_scores[i] * inputs[i]\n",
        "print(context_vec_2)"
      ],
      "metadata": {
        "colab": {
          "base_uri": "https://localhost:8080/"
        },
        "id": "QF8cym9DXQsi",
        "outputId": "83c2400f-baf5-4ac5-fef1-39bc19d77c47"
      },
      "execution_count": 52,
      "outputs": [
        {
          "output_type": "stream",
          "name": "stdout",
          "text": [
            "tensor([0., 0., 0.])\n",
            "tensor([0.4419, 0.6515, 0.5683])\n"
          ]
        }
      ]
    },
    {
      "cell_type": "code",
      "source": [],
      "metadata": {
        "id": "dliCHUaq969p"
      },
      "execution_count": null,
      "outputs": []
    },
    {
      "cell_type": "code",
      "source": [],
      "metadata": {
        "id": "Ibf3sZITXQmM"
      },
      "execution_count": 7,
      "outputs": []
    },
    {
      "cell_type": "code",
      "source": [],
      "metadata": {
        "id": "7HlEES6C_581"
      },
      "execution_count": null,
      "outputs": []
    },
    {
      "cell_type": "code",
      "source": [],
      "metadata": {
        "id": "9IX63Tk3_55U"
      },
      "execution_count": null,
      "outputs": []
    },
    {
      "cell_type": "code",
      "source": [],
      "metadata": {
        "id": "vvUXGBgm_52o"
      },
      "execution_count": null,
      "outputs": []
    },
    {
      "cell_type": "code",
      "source": [],
      "metadata": {
        "id": "m3z5r2KG_5z7"
      },
      "execution_count": null,
      "outputs": []
    }
  ]
}