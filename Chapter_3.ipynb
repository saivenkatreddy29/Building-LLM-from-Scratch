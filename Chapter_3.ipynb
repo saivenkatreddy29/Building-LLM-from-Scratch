{
  "nbformat": 4,
  "nbformat_minor": 0,
  "metadata": {
    "colab": {
      "provenance": [],
      "authorship_tag": "ABX9TyMXCJLVKmkt/qxoFURaJXI+",
      "include_colab_link": true
    },
    "kernelspec": {
      "name": "python3",
      "display_name": "Python 3"
    },
    "language_info": {
      "name": "python"
    }
  },
  "cells": [
    {
      "cell_type": "markdown",
      "metadata": {
        "id": "view-in-github",
        "colab_type": "text"
      },
      "source": [
        "<a href=\"https://colab.research.google.com/github/saivenkatreddy29/Building-LLM-from-Scratch/blob/main/Chapter_3.ipynb\" target=\"_parent\"><img src=\"https://colab.research.google.com/assets/colab-badge.svg\" alt=\"Open In Colab\"/></a>"
      ]
    },
    {
      "cell_type": "code",
      "execution_count": 1,
      "metadata": {
        "colab": {
          "base_uri": "https://localhost:8080/"
        },
        "id": "KpPBrRBlWmri",
        "outputId": "25c7adbe-e3c1-41cc-87a5-6718f5ed39b5"
      },
      "outputs": [
        {
          "output_type": "stream",
          "name": "stdout",
          "text": [
            "torch version 2.5.1+cu121\n"
          ]
        }
      ],
      "source": [
        "from importlib.metadata import version\n",
        "print(\"torch version\", version(\"torch\"))"
      ]
    },
    {
      "cell_type": "code",
      "source": [
        "import torch\n",
        "\n",
        "inputs = torch.tensor(\n",
        "  [[0.43, 0.15, 0.89], # Your     (x^1)\n",
        "   [0.55, 0.87, 0.66], # journey  (x^2)\n",
        "   [0.57, 0.85, 0.64], # starts   (x^3)\n",
        "   [0.22, 0.58, 0.33], # with     (x^4)\n",
        "   [0.77, 0.25, 0.10], # one      (x^5)\n",
        "   [0.05, 0.80, 0.55]] # step     (x^6)\n",
        ")"
      ],
      "metadata": {
        "id": "AhmviQKEW7aa"
      },
      "execution_count": 2,
      "outputs": []
    },
    {
      "cell_type": "markdown",
      "source": [
        "Mathemetical dot product"
      ],
      "metadata": {
        "id": "TdxyFodHZKda"
      }
    },
    {
      "cell_type": "code",
      "source": [
        "result = torch.zeros(len(inputs))\n",
        "n = len(inputs)\n",
        "query = inputs[1]\n",
        "for i in range(n):\n",
        "  result[i] = (sum(query*inputs[i]))\n",
        "print(result)\n"
      ],
      "metadata": {
        "colab": {
          "base_uri": "https://localhost:8080/"
        },
        "id": "d2Tq5X09ZKQ-",
        "outputId": "a7fa47fe-a201-4fae-9343-6ea5e967e5c0"
      },
      "execution_count": 3,
      "outputs": [
        {
          "output_type": "stream",
          "name": "stdout",
          "text": [
            "tensor([0.9544, 1.4950, 1.4754, 0.8434, 0.7070, 1.0865])\n"
          ]
        }
      ]
    },
    {
      "cell_type": "markdown",
      "source": [
        "Using torch"
      ],
      "metadata": {
        "id": "lgvYI9uIZNfM"
      }
    },
    {
      "cell_type": "code",
      "source": [
        "import numpy as np\n",
        "query = inputs[1]\n",
        "attention_scores = torch.zeros(len(inputs))\n",
        "n = len(inputs)\n",
        "for i in range(n):\n",
        "  attention_scores[i] = torch.dot(query,inputs[i])\n",
        "attention_scores"
      ],
      "metadata": {
        "colab": {
          "base_uri": "https://localhost:8080/"
        },
        "id": "0vE-fEOAXQDT",
        "outputId": "8f346e36-6e43-497f-f591-761ed69d5416"
      },
      "execution_count": 4,
      "outputs": [
        {
          "output_type": "execute_result",
          "data": {
            "text/plain": [
              "tensor([0.9544, 1.4950, 1.4754, 0.8434, 0.7070, 1.0865])"
            ]
          },
          "metadata": {},
          "execution_count": 4
        }
      ]
    },
    {
      "cell_type": "code",
      "source": [
        "attention_scores.shape,inputs.shape"
      ],
      "metadata": {
        "colab": {
          "base_uri": "https://localhost:8080/"
        },
        "id": "67l3YcAaXQy6",
        "outputId": "2fd48ceb-8ef1-499a-8f41-c14069cc6548"
      },
      "execution_count": 5,
      "outputs": [
        {
          "output_type": "execute_result",
          "data": {
            "text/plain": [
              "(torch.Size([6]), torch.Size([6, 3]))"
            ]
          },
          "metadata": {},
          "execution_count": 5
        }
      ]
    },
    {
      "cell_type": "markdown",
      "source": [
        "Using mathematical method for normalizing"
      ],
      "metadata": {
        "id": "CXvFkyBvY8CG"
      }
    },
    {
      "cell_type": "code",
      "source": [
        "math_norm = attention_scores/sum(attention_scores)\n",
        "math_norm"
      ],
      "metadata": {
        "colab": {
          "base_uri": "https://localhost:8080/"
        },
        "id": "NzP1YGxgY7xM",
        "outputId": "bdfb6c90-ffd3-4f29-e830-c53fbdde1186"
      },
      "execution_count": 6,
      "outputs": [
        {
          "output_type": "execute_result",
          "data": {
            "text/plain": [
              "tensor([0.1455, 0.2278, 0.2249, 0.1285, 0.1077, 0.1656])"
            ]
          },
          "metadata": {},
          "execution_count": 6
        }
      ]
    },
    {
      "cell_type": "markdown",
      "source": [
        "Using softmax written in python"
      ],
      "metadata": {
        "id": "sNdT7Znh5Ese"
      }
    },
    {
      "cell_type": "code",
      "source": [
        "import math\n",
        "def naive_softmax(x):\n",
        "  denom = 0\n",
        "  for i in x:\n",
        "    denom += math.exp(i)\n",
        "  print(denom)\n",
        "  # denom = sum(math.exp(x))\n",
        "  return torch.exp(x)/denom\n",
        "python_norm = naive_softmax(attention_scores)\n",
        "print(python_norm)\n"
      ],
      "metadata": {
        "colab": {
          "base_uri": "https://localhost:8080/"
        },
        "id": "vFdGGsZx5IER",
        "outputId": "b021f28b-2c3d-4c5b-98d9-c7e92af4aca6"
      },
      "execution_count": 7,
      "outputs": [
        {
          "output_type": "stream",
          "name": "stdout",
          "text": [
            "18.745270996882674\n",
            "tensor([0.1385, 0.2379, 0.2333, 0.1240, 0.1082, 0.1581])\n"
          ]
        }
      ]
    },
    {
      "cell_type": "markdown",
      "source": [
        "Using torch softmax"
      ],
      "metadata": {
        "id": "Wb8Vo2OK5InR"
      }
    },
    {
      "cell_type": "code",
      "source": [
        "normalized_scores = torch.softmax(attention_scores, dim = -1)\n",
        "normalized_scores"
      ],
      "metadata": {
        "colab": {
          "base_uri": "https://localhost:8080/"
        },
        "id": "Kq9ZeLj3XQvc",
        "outputId": "582e03d8-2294-4cbe-ca5d-2c2153d95691"
      },
      "execution_count": 8,
      "outputs": [
        {
          "output_type": "execute_result",
          "data": {
            "text/plain": [
              "tensor([0.1385, 0.2379, 0.2333, 0.1240, 0.1082, 0.1581])"
            ]
          },
          "metadata": {},
          "execution_count": 8
        }
      ]
    },
    {
      "cell_type": "markdown",
      "source": [
        "Context vector for 2nd input we used as example"
      ],
      "metadata": {
        "id": "jXDPjFOz6002"
      }
    },
    {
      "cell_type": "code",
      "source": [
        "query = inputs[1]\n",
        "context_vec_2 = torch.zeros(query.shape)\n",
        "print(context_vec_2)\n",
        "for i in range(n):\n",
        "  # print(f'i:{inputs[i]}')\n",
        "  context_vec_2 += normalized_scores[i] * inputs[i]\n",
        "print(context_vec_2)"
      ],
      "metadata": {
        "colab": {
          "base_uri": "https://localhost:8080/"
        },
        "id": "QF8cym9DXQsi",
        "outputId": "acd63f19-0923-450b-fb8a-0c7680e2ae19"
      },
      "execution_count": 9,
      "outputs": [
        {
          "output_type": "stream",
          "name": "stdout",
          "text": [
            "tensor([0., 0., 0.])\n",
            "tensor([0.4419, 0.6515, 0.5683])\n"
          ]
        }
      ]
    },
    {
      "cell_type": "code",
      "source": [],
      "metadata": {
        "id": "dliCHUaq969p"
      },
      "execution_count": 9,
      "outputs": []
    },
    {
      "cell_type": "code",
      "source": [
        "attn_score = inputs@inputs.T\n",
        "print(attn_score)"
      ],
      "metadata": {
        "id": "Ibf3sZITXQmM",
        "colab": {
          "base_uri": "https://localhost:8080/"
        },
        "outputId": "6d633cbc-7d01-48ee-93af-d11af6ecb751"
      },
      "execution_count": 10,
      "outputs": [
        {
          "output_type": "stream",
          "name": "stdout",
          "text": [
            "tensor([[0.9995, 0.9544, 0.9422, 0.4753, 0.4576, 0.6310],\n",
            "        [0.9544, 1.4950, 1.4754, 0.8434, 0.7070, 1.0865],\n",
            "        [0.9422, 1.4754, 1.4570, 0.8296, 0.7154, 1.0605],\n",
            "        [0.4753, 0.8434, 0.8296, 0.4937, 0.3474, 0.6565],\n",
            "        [0.4576, 0.7070, 0.7154, 0.3474, 0.6654, 0.2935],\n",
            "        [0.6310, 1.0865, 1.0605, 0.6565, 0.2935, 0.9450]])\n"
          ]
        }
      ]
    },
    {
      "cell_type": "code",
      "source": [
        "attn_weights = torch.softmax(attn_score, dim = -1)\n",
        "print(attn_weights)"
      ],
      "metadata": {
        "id": "7HlEES6C_581",
        "colab": {
          "base_uri": "https://localhost:8080/"
        },
        "outputId": "f4e4fa7a-dad1-41a4-92d2-05bdff7e0b07"
      },
      "execution_count": 11,
      "outputs": [
        {
          "output_type": "stream",
          "name": "stdout",
          "text": [
            "tensor([[0.2098, 0.2006, 0.1981, 0.1242, 0.1220, 0.1452],\n",
            "        [0.1385, 0.2379, 0.2333, 0.1240, 0.1082, 0.1581],\n",
            "        [0.1390, 0.2369, 0.2326, 0.1242, 0.1108, 0.1565],\n",
            "        [0.1435, 0.2074, 0.2046, 0.1462, 0.1263, 0.1720],\n",
            "        [0.1526, 0.1958, 0.1975, 0.1367, 0.1879, 0.1295],\n",
            "        [0.1385, 0.2184, 0.2128, 0.1420, 0.0988, 0.1896]])\n"
          ]
        }
      ]
    },
    {
      "cell_type": "code",
      "source": [
        "print(attn_weights.sum(dim = -1))"
      ],
      "metadata": {
        "id": "9IX63Tk3_55U",
        "colab": {
          "base_uri": "https://localhost:8080/"
        },
        "outputId": "cd6c7755-bba9-4d5d-b7d4-4a8e6e9b95bc"
      },
      "execution_count": 12,
      "outputs": [
        {
          "output_type": "stream",
          "name": "stdout",
          "text": [
            "tensor([1.0000, 1.0000, 1.0000, 1.0000, 1.0000, 1.0000])\n"
          ]
        }
      ]
    },
    {
      "cell_type": "code",
      "source": [
        "context_vector = attn_weights @ inputs\n",
        "print(context_vector)"
      ],
      "metadata": {
        "id": "vvUXGBgm_52o",
        "colab": {
          "base_uri": "https://localhost:8080/"
        },
        "outputId": "b7e40392-19c3-4e89-8231-aacc9fe4eb9d"
      },
      "execution_count": 13,
      "outputs": [
        {
          "output_type": "stream",
          "name": "stdout",
          "text": [
            "tensor([[0.4421, 0.5931, 0.5790],\n",
            "        [0.4419, 0.6515, 0.5683],\n",
            "        [0.4431, 0.6496, 0.5671],\n",
            "        [0.4304, 0.6298, 0.5510],\n",
            "        [0.4671, 0.5910, 0.5266],\n",
            "        [0.4177, 0.6503, 0.5645]])\n"
          ]
        }
      ]
    },
    {
      "cell_type": "code",
      "source": [],
      "metadata": {
        "id": "m3z5r2KG_5z7"
      },
      "execution_count": null,
      "outputs": []
    }
  ]
}